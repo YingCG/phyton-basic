{
 "cells": [
  {
   "cell_type": "code",
   "execution_count": 31,
   "metadata": {},
   "outputs": [
    {
     "data": {
      "text/html": [
       "<div>\n",
       "<style scoped>\n",
       "    .dataframe tbody tr th:only-of-type {\n",
       "        vertical-align: middle;\n",
       "    }\n",
       "\n",
       "    .dataframe tbody tr th {\n",
       "        vertical-align: top;\n",
       "    }\n",
       "\n",
       "    .dataframe thead th {\n",
       "        text-align: right;\n",
       "    }\n",
       "</style>\n",
       "<table border=\"1\" class=\"dataframe\">\n",
       "  <thead>\n",
       "    <tr style=\"text-align: right;\">\n",
       "      <th></th>\n",
       "      <th>STATION</th>\n",
       "      <th>NAME</th>\n",
       "      <th>PRCP</th>\n",
       "      <th>TAVG</th>\n",
       "      <th>TMAX</th>\n",
       "      <th>TMIN</th>\n",
       "    </tr>\n",
       "    <tr>\n",
       "      <th>DATE</th>\n",
       "      <th></th>\n",
       "      <th></th>\n",
       "      <th></th>\n",
       "      <th></th>\n",
       "      <th></th>\n",
       "      <th></th>\n",
       "    </tr>\n",
       "  </thead>\n",
       "  <tbody>\n",
       "    <tr>\n",
       "      <th>1994-08-02</th>\n",
       "      <td>NZM00093110</td>\n",
       "      <td>AUCKLAND AERO AWS, NZ</td>\n",
       "      <td>NaN</td>\n",
       "      <td>56</td>\n",
       "      <td>NaN</td>\n",
       "      <td>NaN</td>\n",
       "    </tr>\n",
       "    <tr>\n",
       "      <th>1994-08-03</th>\n",
       "      <td>NZM00093110</td>\n",
       "      <td>AUCKLAND AERO AWS, NZ</td>\n",
       "      <td>NaN</td>\n",
       "      <td>55</td>\n",
       "      <td>NaN</td>\n",
       "      <td>NaN</td>\n",
       "    </tr>\n",
       "    <tr>\n",
       "      <th>1994-08-04</th>\n",
       "      <td>NZM00093110</td>\n",
       "      <td>AUCKLAND AERO AWS, NZ</td>\n",
       "      <td>0.00</td>\n",
       "      <td>52</td>\n",
       "      <td>NaN</td>\n",
       "      <td>NaN</td>\n",
       "    </tr>\n",
       "    <tr>\n",
       "      <th>1994-08-05</th>\n",
       "      <td>NZM00093110</td>\n",
       "      <td>AUCKLAND AERO AWS, NZ</td>\n",
       "      <td>0.02</td>\n",
       "      <td>54</td>\n",
       "      <td>NaN</td>\n",
       "      <td>NaN</td>\n",
       "    </tr>\n",
       "    <tr>\n",
       "      <th>1994-08-06</th>\n",
       "      <td>NZM00093110</td>\n",
       "      <td>AUCKLAND AERO AWS, NZ</td>\n",
       "      <td>0.00</td>\n",
       "      <td>53</td>\n",
       "      <td>NaN</td>\n",
       "      <td>NaN</td>\n",
       "    </tr>\n",
       "    <tr>\n",
       "      <th>...</th>\n",
       "      <td>...</td>\n",
       "      <td>...</td>\n",
       "      <td>...</td>\n",
       "      <td>...</td>\n",
       "      <td>...</td>\n",
       "      <td>...</td>\n",
       "    </tr>\n",
       "    <tr>\n",
       "      <th>2023-07-08</th>\n",
       "      <td>NZM00093110</td>\n",
       "      <td>AUCKLAND AERO AWS, NZ</td>\n",
       "      <td>0.39</td>\n",
       "      <td>53</td>\n",
       "      <td>61.0</td>\n",
       "      <td>NaN</td>\n",
       "    </tr>\n",
       "    <tr>\n",
       "      <th>2023-07-09</th>\n",
       "      <td>NZM00093110</td>\n",
       "      <td>AUCKLAND AERO AWS, NZ</td>\n",
       "      <td>0.09</td>\n",
       "      <td>55</td>\n",
       "      <td>59.0</td>\n",
       "      <td>46.0</td>\n",
       "    </tr>\n",
       "    <tr>\n",
       "      <th>2023-07-10</th>\n",
       "      <td>NZM00093110</td>\n",
       "      <td>AUCKLAND AERO AWS, NZ</td>\n",
       "      <td>0.13</td>\n",
       "      <td>56</td>\n",
       "      <td>60.0</td>\n",
       "      <td>48.0</td>\n",
       "    </tr>\n",
       "    <tr>\n",
       "      <th>2023-07-11</th>\n",
       "      <td>NZM00093110</td>\n",
       "      <td>AUCKLAND AERO AWS, NZ</td>\n",
       "      <td>0.16</td>\n",
       "      <td>55</td>\n",
       "      <td>60.0</td>\n",
       "      <td>NaN</td>\n",
       "    </tr>\n",
       "    <tr>\n",
       "      <th>2023-07-12</th>\n",
       "      <td>NZM00093110</td>\n",
       "      <td>AUCKLAND AERO AWS, NZ</td>\n",
       "      <td>0.15</td>\n",
       "      <td>56</td>\n",
       "      <td>61.0</td>\n",
       "      <td>52.0</td>\n",
       "    </tr>\n",
       "  </tbody>\n",
       "</table>\n",
       "<p>10521 rows × 6 columns</p>\n",
       "</div>"
      ],
      "text/plain": [
       "                STATION                   NAME  PRCP  TAVG  TMAX  TMIN\n",
       "DATE                                                                  \n",
       "1994-08-02  NZM00093110  AUCKLAND AERO AWS, NZ   NaN    56   NaN   NaN\n",
       "1994-08-03  NZM00093110  AUCKLAND AERO AWS, NZ   NaN    55   NaN   NaN\n",
       "1994-08-04  NZM00093110  AUCKLAND AERO AWS, NZ  0.00    52   NaN   NaN\n",
       "1994-08-05  NZM00093110  AUCKLAND AERO AWS, NZ  0.02    54   NaN   NaN\n",
       "1994-08-06  NZM00093110  AUCKLAND AERO AWS, NZ  0.00    53   NaN   NaN\n",
       "...                 ...                    ...   ...   ...   ...   ...\n",
       "2023-07-08  NZM00093110  AUCKLAND AERO AWS, NZ  0.39    53  61.0   NaN\n",
       "2023-07-09  NZM00093110  AUCKLAND AERO AWS, NZ  0.09    55  59.0  46.0\n",
       "2023-07-10  NZM00093110  AUCKLAND AERO AWS, NZ  0.13    56  60.0  48.0\n",
       "2023-07-11  NZM00093110  AUCKLAND AERO AWS, NZ  0.16    55  60.0   NaN\n",
       "2023-07-12  NZM00093110  AUCKLAND AERO AWS, NZ  0.15    56  61.0  52.0\n",
       "\n",
       "[10521 rows x 6 columns]"
      ]
     },
     "execution_count": 31,
     "metadata": {},
     "output_type": "execute_result"
    }
   ],
   "source": [
    "import pandas as pd\n",
    "weather = pd.read_csv(\"./data/Auckland_NOAA.csv\", index_col=\"DATE\")\n",
    "weather"
   ]
  },
  {
   "cell_type": "code",
   "execution_count": 32,
   "metadata": {},
   "outputs": [
    {
     "data": {
      "text/plain": [
       "STATION    0.000000\n",
       "NAME       0.000000\n",
       "PRCP       0.142667\n",
       "TAVG       0.000000\n",
       "TMAX       0.310047\n",
       "TMIN       0.544625\n",
       "dtype: float64"
      ]
     },
     "execution_count": 32,
     "metadata": {},
     "output_type": "execute_result"
    }
   ],
   "source": [
    "null_percentage = weather.apply(pd.isnull).sum() / weather.shape[0]\n",
    "null_percentage"
   ]
  },
  {
   "cell_type": "code",
   "execution_count": 33,
   "metadata": {},
   "outputs": [],
   "source": [
    "# valid_columns = weather.columns[null_percentage < .05]\n",
    "# valid_columns"
   ]
  },
  {
   "cell_type": "code",
   "execution_count": 34,
   "metadata": {},
   "outputs": [
    {
     "data": {
      "text/html": [
       "<div>\n",
       "<style scoped>\n",
       "    .dataframe tbody tr th:only-of-type {\n",
       "        vertical-align: middle;\n",
       "    }\n",
       "\n",
       "    .dataframe tbody tr th {\n",
       "        vertical-align: top;\n",
       "    }\n",
       "\n",
       "    .dataframe thead th {\n",
       "        text-align: right;\n",
       "    }\n",
       "</style>\n",
       "<table border=\"1\" class=\"dataframe\">\n",
       "  <thead>\n",
       "    <tr style=\"text-align: right;\">\n",
       "      <th></th>\n",
       "      <th>station</th>\n",
       "      <th>name</th>\n",
       "      <th>prcp</th>\n",
       "      <th>tavg</th>\n",
       "      <th>tmax</th>\n",
       "      <th>tmin</th>\n",
       "    </tr>\n",
       "    <tr>\n",
       "      <th>DATE</th>\n",
       "      <th></th>\n",
       "      <th></th>\n",
       "      <th></th>\n",
       "      <th></th>\n",
       "      <th></th>\n",
       "      <th></th>\n",
       "    </tr>\n",
       "  </thead>\n",
       "  <tbody>\n",
       "    <tr>\n",
       "      <th>1994-08-02</th>\n",
       "      <td>NZM00093110</td>\n",
       "      <td>AUCKLAND AERO AWS, NZ</td>\n",
       "      <td>NaN</td>\n",
       "      <td>56</td>\n",
       "      <td>NaN</td>\n",
       "      <td>NaN</td>\n",
       "    </tr>\n",
       "    <tr>\n",
       "      <th>1994-08-03</th>\n",
       "      <td>NZM00093110</td>\n",
       "      <td>AUCKLAND AERO AWS, NZ</td>\n",
       "      <td>NaN</td>\n",
       "      <td>55</td>\n",
       "      <td>NaN</td>\n",
       "      <td>NaN</td>\n",
       "    </tr>\n",
       "    <tr>\n",
       "      <th>1994-08-04</th>\n",
       "      <td>NZM00093110</td>\n",
       "      <td>AUCKLAND AERO AWS, NZ</td>\n",
       "      <td>0.00</td>\n",
       "      <td>52</td>\n",
       "      <td>NaN</td>\n",
       "      <td>NaN</td>\n",
       "    </tr>\n",
       "    <tr>\n",
       "      <th>1994-08-05</th>\n",
       "      <td>NZM00093110</td>\n",
       "      <td>AUCKLAND AERO AWS, NZ</td>\n",
       "      <td>0.02</td>\n",
       "      <td>54</td>\n",
       "      <td>NaN</td>\n",
       "      <td>NaN</td>\n",
       "    </tr>\n",
       "    <tr>\n",
       "      <th>1994-08-06</th>\n",
       "      <td>NZM00093110</td>\n",
       "      <td>AUCKLAND AERO AWS, NZ</td>\n",
       "      <td>0.00</td>\n",
       "      <td>53</td>\n",
       "      <td>NaN</td>\n",
       "      <td>NaN</td>\n",
       "    </tr>\n",
       "    <tr>\n",
       "      <th>...</th>\n",
       "      <td>...</td>\n",
       "      <td>...</td>\n",
       "      <td>...</td>\n",
       "      <td>...</td>\n",
       "      <td>...</td>\n",
       "      <td>...</td>\n",
       "    </tr>\n",
       "    <tr>\n",
       "      <th>2023-07-08</th>\n",
       "      <td>NZM00093110</td>\n",
       "      <td>AUCKLAND AERO AWS, NZ</td>\n",
       "      <td>0.39</td>\n",
       "      <td>53</td>\n",
       "      <td>61.0</td>\n",
       "      <td>NaN</td>\n",
       "    </tr>\n",
       "    <tr>\n",
       "      <th>2023-07-09</th>\n",
       "      <td>NZM00093110</td>\n",
       "      <td>AUCKLAND AERO AWS, NZ</td>\n",
       "      <td>0.09</td>\n",
       "      <td>55</td>\n",
       "      <td>59.0</td>\n",
       "      <td>46.0</td>\n",
       "    </tr>\n",
       "    <tr>\n",
       "      <th>2023-07-10</th>\n",
       "      <td>NZM00093110</td>\n",
       "      <td>AUCKLAND AERO AWS, NZ</td>\n",
       "      <td>0.13</td>\n",
       "      <td>56</td>\n",
       "      <td>60.0</td>\n",
       "      <td>48.0</td>\n",
       "    </tr>\n",
       "    <tr>\n",
       "      <th>2023-07-11</th>\n",
       "      <td>NZM00093110</td>\n",
       "      <td>AUCKLAND AERO AWS, NZ</td>\n",
       "      <td>0.16</td>\n",
       "      <td>55</td>\n",
       "      <td>60.0</td>\n",
       "      <td>NaN</td>\n",
       "    </tr>\n",
       "    <tr>\n",
       "      <th>2023-07-12</th>\n",
       "      <td>NZM00093110</td>\n",
       "      <td>AUCKLAND AERO AWS, NZ</td>\n",
       "      <td>0.15</td>\n",
       "      <td>56</td>\n",
       "      <td>61.0</td>\n",
       "      <td>52.0</td>\n",
       "    </tr>\n",
       "  </tbody>\n",
       "</table>\n",
       "<p>10521 rows × 6 columns</p>\n",
       "</div>"
      ],
      "text/plain": [
       "                station                   name  prcp  tavg  tmax  tmin\n",
       "DATE                                                                  \n",
       "1994-08-02  NZM00093110  AUCKLAND AERO AWS, NZ   NaN    56   NaN   NaN\n",
       "1994-08-03  NZM00093110  AUCKLAND AERO AWS, NZ   NaN    55   NaN   NaN\n",
       "1994-08-04  NZM00093110  AUCKLAND AERO AWS, NZ  0.00    52   NaN   NaN\n",
       "1994-08-05  NZM00093110  AUCKLAND AERO AWS, NZ  0.02    54   NaN   NaN\n",
       "1994-08-06  NZM00093110  AUCKLAND AERO AWS, NZ  0.00    53   NaN   NaN\n",
       "...                 ...                    ...   ...   ...   ...   ...\n",
       "2023-07-08  NZM00093110  AUCKLAND AERO AWS, NZ  0.39    53  61.0   NaN\n",
       "2023-07-09  NZM00093110  AUCKLAND AERO AWS, NZ  0.09    55  59.0  46.0\n",
       "2023-07-10  NZM00093110  AUCKLAND AERO AWS, NZ  0.13    56  60.0  48.0\n",
       "2023-07-11  NZM00093110  AUCKLAND AERO AWS, NZ  0.16    55  60.0   NaN\n",
       "2023-07-12  NZM00093110  AUCKLAND AERO AWS, NZ  0.15    56  61.0  52.0\n",
       "\n",
       "[10521 rows x 6 columns]"
      ]
     },
     "execution_count": 34,
     "metadata": {},
     "output_type": "execute_result"
    }
   ],
   "source": [
    "# weather = weather[valid_columns].copy()\n",
    "weather.columns = weather.columns.str.lower()\n",
    "weather"
   ]
  },
  {
   "cell_type": "code",
   "execution_count": 35,
   "metadata": {},
   "outputs": [
    {
     "data": {
      "text/plain": [
       "station       0\n",
       "name          0\n",
       "prcp          2\n",
       "tavg          0\n",
       "tmax       2931\n",
       "tmin       2933\n",
       "dtype: int64"
      ]
     },
     "execution_count": 35,
     "metadata": {},
     "output_type": "execute_result"
    }
   ],
   "source": [
    "weather = weather.ffill()\n",
    "weather.apply(pd.isnull).sum()"
   ]
  },
  {
   "cell_type": "code",
   "execution_count": 36,
   "metadata": {},
   "outputs": [
    {
     "data": {
      "text/plain": [
       "station     object\n",
       "name        object\n",
       "prcp       float64\n",
       "tavg         int64\n",
       "tmax       float64\n",
       "tmin       float64\n",
       "dtype: object"
      ]
     },
     "execution_count": 36,
     "metadata": {},
     "output_type": "execute_result"
    }
   ],
   "source": [
    "weather.dtypes"
   ]
  },
  {
   "cell_type": "code",
   "execution_count": 37,
   "metadata": {},
   "outputs": [
    {
     "data": {
      "text/plain": [
       "Index(['1994-08-02', '1994-08-03', '1994-08-04', '1994-08-05', '1994-08-06',\n",
       "       '1994-08-07', '1994-08-08', '1994-08-09', '1994-08-10', '1994-08-11',\n",
       "       ...\n",
       "       '2023-07-03', '2023-07-04', '2023-07-05', '2023-07-06', '2023-07-07',\n",
       "       '2023-07-08', '2023-07-09', '2023-07-10', '2023-07-11', '2023-07-12'],\n",
       "      dtype='object', name='DATE', length=10521)"
      ]
     },
     "execution_count": 37,
     "metadata": {},
     "output_type": "execute_result"
    }
   ],
   "source": [
    "weather.index"
   ]
  },
  {
   "cell_type": "code",
   "execution_count": 38,
   "metadata": {},
   "outputs": [
    {
     "data": {
      "text/plain": [
       "DatetimeIndex(['1994-08-02', '1994-08-03', '1994-08-04', '1994-08-05',\n",
       "               '1994-08-06', '1994-08-07', '1994-08-08', '1994-08-09',\n",
       "               '1994-08-10', '1994-08-11',\n",
       "               ...\n",
       "               '2023-07-03', '2023-07-04', '2023-07-05', '2023-07-06',\n",
       "               '2023-07-07', '2023-07-08', '2023-07-09', '2023-07-10',\n",
       "               '2023-07-11', '2023-07-12'],\n",
       "              dtype='datetime64[ns]', name='DATE', length=10521, freq=None)"
      ]
     },
     "execution_count": 38,
     "metadata": {},
     "output_type": "execute_result"
    }
   ],
   "source": [
    "weather.index = pd.to_datetime(weather.index)\n",
    "weather.index"
   ]
  },
  {
   "cell_type": "code",
   "execution_count": 39,
   "metadata": {},
   "outputs": [
    {
     "data": {
      "text/plain": [
       "1994    152\n",
       "1995    346\n",
       "1996    362\n",
       "1997    365\n",
       "1998    364\n",
       "1999    364\n",
       "2000    366\n",
       "2001    365\n",
       "2002    364\n",
       "2003    364\n",
       "2004    366\n",
       "2005    365\n",
       "2006    362\n",
       "2007    364\n",
       "2008    366\n",
       "2009    365\n",
       "2010    365\n",
       "2011    365\n",
       "2012    366\n",
       "2013    365\n",
       "2014    363\n",
       "2015    357\n",
       "2016    365\n",
       "2017    365\n",
       "2018    363\n",
       "2019    362\n",
       "2020    366\n",
       "2021    361\n",
       "2022    365\n",
       "2023    193\n",
       "Name: DATE, dtype: int64"
      ]
     },
     "execution_count": 39,
     "metadata": {},
     "output_type": "execute_result"
    }
   ],
   "source": [
    "weather.index.year.value_counts().sort_index()"
   ]
  },
  {
   "cell_type": "code",
   "execution_count": 40,
   "metadata": {},
   "outputs": [
    {
     "data": {
      "text/plain": [
       "<Axes: xlabel='DATE'>"
      ]
     },
     "execution_count": 40,
     "metadata": {},
     "output_type": "execute_result"
    },
    {
     "data": {
      "image/png": "[encoded data removed]",
      "text/plain": [
       "<Figure size 640x480 with 1 Axes>"
      ]
     },
     "metadata": {},
     "output_type": "display_data"
    }
   ],
   "source": [
    "weather[\"prcp\"].plot()"
   ]
  },
  {
   "cell_type": "code",
   "execution_count": 41,
   "metadata": {},
   "outputs": [
    {
     "data": {
      "text/plain": [
       "<Axes: xlabel='DATE'>"
      ]
     },
     "execution_count": 41,
     "metadata": {},
     "output_type": "execute_result"
    },
    {
     "data": {
      "image/png": "[encoded data removed]",
      "text/plain": [
       "<Figure size 640x480 with 1 Axes>"
      ]
     },
     "metadata": {},
     "output_type": "display_data"
    }
   ],
   "source": [
    "weather[\"tavg\"].plot()"
   ]
  }
 ],
 "metadata": {
  "kernelspec": {
   "display_name": "Python 3",
   "language": "python",
   "name": "python3"
  },
  "language_info": {
   "codemirror_mode": {
    "name": "ipython",
    "version": 3
   },
   "file_extension": ".py",
   "mimetype": "text/x-python",
   "name": "python",
   "nbconvert_exporter": "python",
   "pygments_lexer": "ipython3",
   "version": "3.8.10"
  },
  "orig_nbformat": 4
 },
 "nbformat": 4,
 "nbformat_minor": 2
}
