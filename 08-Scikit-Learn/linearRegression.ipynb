{
 "cells": [
  {
   "attachments": {},
   "cell_type": "markdown",
   "metadata": {},
   "source": [
    "## Import Libraries"
   ]
  },
  {
   "cell_type": "code",
   "execution_count": 2,
   "metadata": {},
   "outputs": [],
   "source": [
    "%matplotlib inline\n",
    "import matplotlib.pyplot as plt\n",
    "import pandas as pd\n",
    "from sklearn.model_selection import train_test_split\n",
    "from sklearn.linear_model import LinearRegression"
   ]
  },
  {
   "attachments": {},
   "cell_type": "markdown",
   "metadata": {},
   "source": [
    "## Load the dataset"
   ]
  },
  {
   "attachments": {},
   "cell_type": "markdown",
   "metadata": {},
   "source": []
  },
  {
   "cell_type": "code",
   "execution_count": 3,
   "metadata": {},
   "outputs": [
    {
     "data": {
      "text/html": [
       "<div>\n",
       "<style scoped>\n",
       "    .dataframe tbody tr th:only-of-type {\n",
       "        vertical-align: middle;\n",
       "    }\n",
       "\n",
       "    .dataframe tbody tr th {\n",
       "        vertical-align: top;\n",
       "    }\n",
       "\n",
       "    .dataframe thead th {\n",
       "        text-align: right;\n",
       "    }\n",
       "</style>\n",
       "<table border=\"1\" class=\"dataframe\">\n",
       "  <thead>\n",
       "    <tr style=\"text-align: right;\">\n",
       "      <th></th>\n",
       "      <th>X</th>\n",
       "      <th>Y</th>\n",
       "      <th>OBJECTID</th>\n",
       "      <th>Siteno</th>\n",
       "      <th>Name</th>\n",
       "      <th>NZTM_E</th>\n",
       "      <th>NZTM_N</th>\n",
       "      <th>Region</th>\n",
       "      <th>Operator</th>\n",
       "      <th>Funder</th>\n",
       "      <th>...</th>\n",
       "      <th>Data_1000y</th>\n",
       "      <th>se_2_33y</th>\n",
       "      <th>se_5y</th>\n",
       "      <th>se_10y</th>\n",
       "      <th>se_20y</th>\n",
       "      <th>se_50y</th>\n",
       "      <th>se_100y</th>\n",
       "      <th>se_250y</th>\n",
       "      <th>se_500y</th>\n",
       "      <th>se_1000y</th>\n",
       "    </tr>\n",
       "  </thead>\n",
       "  <tbody>\n",
       "    <tr>\n",
       "      <th>0</th>\n",
       "      <td>1615597</td>\n",
       "      <td>6135971</td>\n",
       "      <td>1</td>\n",
       "      <td>802</td>\n",
       "      <td>Selwyn Swamp at Big Flat Rd</td>\n",
       "      <td>1615597</td>\n",
       "      <td>6135971</td>\n",
       "      <td>NRC</td>\n",
       "      <td>NRC</td>\n",
       "      <td>NRC</td>\n",
       "      <td>...</td>\n",
       "      <td>4.695198</td>\n",
       "      <td>7%</td>\n",
       "      <td>8%</td>\n",
       "      <td>9%</td>\n",
       "      <td>9%</td>\n",
       "      <td>10%</td>\n",
       "      <td>11%</td>\n",
       "      <td>12%</td>\n",
       "      <td>12%</td>\n",
       "      <td>12%</td>\n",
       "    </tr>\n",
       "    <tr>\n",
       "      <th>1</th>\n",
       "      <td>1624354</td>\n",
       "      <td>6114008</td>\n",
       "      <td>2</td>\n",
       "      <td>1316</td>\n",
       "      <td>Awanui at School Cut</td>\n",
       "      <td>1624354</td>\n",
       "      <td>6114008</td>\n",
       "      <td>NRC</td>\n",
       "      <td>NIWA</td>\n",
       "      <td>MBIE</td>\n",
       "      <td>...</td>\n",
       "      <td>414.991883</td>\n",
       "      <td>5%</td>\n",
       "      <td>5%</td>\n",
       "      <td>6%</td>\n",
       "      <td>7%</td>\n",
       "      <td>8%</td>\n",
       "      <td>8%</td>\n",
       "      <td>9%</td>\n",
       "      <td>9%</td>\n",
       "      <td>10%</td>\n",
       "    </tr>\n",
       "    <tr>\n",
       "      <th>2</th>\n",
       "      <td>1624425</td>\n",
       "      <td>6113399</td>\n",
       "      <td>3</td>\n",
       "      <td>1335</td>\n",
       "      <td>Tarawhataroa at Puriri Place</td>\n",
       "      <td>1624425</td>\n",
       "      <td>6113399</td>\n",
       "      <td>NRC</td>\n",
       "      <td>NRC</td>\n",
       "      <td>NRC</td>\n",
       "      <td>...</td>\n",
       "      <td>328.718279</td>\n",
       "      <td>9%</td>\n",
       "      <td>8%</td>\n",
       "      <td>8%</td>\n",
       "      <td>8%</td>\n",
       "      <td>8%</td>\n",
       "      <td>8%</td>\n",
       "      <td>9%</td>\n",
       "      <td>9%</td>\n",
       "      <td>9%</td>\n",
       "    </tr>\n",
       "    <tr>\n",
       "      <th>3</th>\n",
       "      <td>1646631</td>\n",
       "      <td>6118068</td>\n",
       "      <td>4</td>\n",
       "      <td>1903</td>\n",
       "      <td>Oruru at Saleyards</td>\n",
       "      <td>1646631</td>\n",
       "      <td>6118068</td>\n",
       "      <td>NRC</td>\n",
       "      <td>NIWA</td>\n",
       "      <td>MBIE</td>\n",
       "      <td>...</td>\n",
       "      <td>157.671477</td>\n",
       "      <td>5%</td>\n",
       "      <td>6%</td>\n",
       "      <td>7%</td>\n",
       "      <td>9%</td>\n",
       "      <td>10%</td>\n",
       "      <td>11%</td>\n",
       "      <td>12%</td>\n",
       "      <td>12%</td>\n",
       "      <td>13%</td>\n",
       "    </tr>\n",
       "    <tr>\n",
       "      <th>4</th>\n",
       "      <td>1644928</td>\n",
       "      <td>6113462</td>\n",
       "      <td>5</td>\n",
       "      <td>1909</td>\n",
       "      <td>Peria at Honeymoon Valley</td>\n",
       "      <td>1644928</td>\n",
       "      <td>6113462</td>\n",
       "      <td>NRC</td>\n",
       "      <td>NIWA</td>\n",
       "      <td>MBIE</td>\n",
       "      <td>...</td>\n",
       "      <td>165.499395</td>\n",
       "      <td>13%</td>\n",
       "      <td>16%</td>\n",
       "      <td>19%</td>\n",
       "      <td>21%</td>\n",
       "      <td>24%</td>\n",
       "      <td>26%</td>\n",
       "      <td>27%</td>\n",
       "      <td>29%</td>\n",
       "      <td>30%</td>\n",
       "    </tr>\n",
       "  </tbody>\n",
       "</table>\n",
       "<p>5 rows × 41 columns</p>\n",
       "</div>"
      ],
      "text/plain": [
       "         X        Y  OBJECTID  Siteno                          Name   NZTM_E  \\\n",
       "0  1615597  6135971         1     802   Selwyn Swamp at Big Flat Rd  1615597   \n",
       "1  1624354  6114008         2    1316          Awanui at School Cut  1624354   \n",
       "2  1624425  6113399         3    1335  Tarawhataroa at Puriri Place  1624425   \n",
       "3  1646631  6118068         4    1903            Oruru at Saleyards  1646631   \n",
       "4  1644928  6113462         5    1909     Peria at Honeymoon Valley  1644928   \n",
       "\n",
       "    NZTM_N Region Operator Funder  ...  Data_1000y  se_2_33y  se_5y  se_10y  \\\n",
       "0  6135971    NRC      NRC    NRC  ...    4.695198        7%     8%      9%   \n",
       "1  6114008    NRC     NIWA   MBIE  ...  414.991883        5%     5%      6%   \n",
       "2  6113399    NRC      NRC    NRC  ...  328.718279        9%     8%      8%   \n",
       "3  6118068    NRC     NIWA   MBIE  ...  157.671477        5%     6%      7%   \n",
       "4  6113462    NRC     NIWA   MBIE  ...  165.499395       13%    16%     19%   \n",
       "\n",
       "   se_20y  se_50y  se_100y  se_250y  se_500y  se_1000y  \n",
       "0      9%     10%      11%      12%      12%       12%  \n",
       "1      7%      8%       8%       9%       9%       10%  \n",
       "2      8%      8%       8%       9%       9%        9%  \n",
       "3      9%     10%      11%      12%      12%       13%  \n",
       "4     21%     24%      26%      27%      29%       30%  \n",
       "\n",
       "[5 rows x 41 columns]"
      ]
     },
     "execution_count": 3,
     "metadata": {},
     "output_type": "execute_result"
    }
   ],
   "source": [
    "# Flood Estimation for New Zealand\n",
    "df = pd.read_csv('data/NZ_Flood_Statistics_Henderson_Collins_V2_Layer.csv', sep=\",\")\n",
    "df.head()"
   ]
  },
  {
   "cell_type": "code",
   "execution_count": 4,
   "metadata": {},
   "outputs": [
    {
     "data": {
      "text/plain": [
       "(634, 41)"
      ]
     },
     "execution_count": 4,
     "metadata": {},
     "output_type": "execute_result"
    }
   ],
   "source": [
    "df.shape"
   ]
  },
  {
   "cell_type": "code",
   "execution_count": 5,
   "metadata": {},
   "outputs": [
    {
     "data": {
      "text/plain": [
       "X             0\n",
       "Y             0\n",
       "OBJECTID      0\n",
       "Siteno        0\n",
       "Name          0\n",
       "NZTM_E        0\n",
       "NZTM_N        0\n",
       "Region        0\n",
       "Operator      0\n",
       "Funder        0\n",
       "Area_km2      0\n",
       "No_years      0\n",
       "L1_mean       0\n",
       "L2            0\n",
       "Lcv           0\n",
       "T3_Lskew      0\n",
       "T4_Lkurt      0\n",
       "Gumb_u        0\n",
       "Gumb_alpha    0\n",
       "GEV_u         0\n",
       "GEV_alpha     0\n",
       "GEV_k         0\n",
       "GEV_z         0\n",
       "Data_2_33y    0\n",
       "Data_5y       0\n",
       "Data_10y      0\n",
       "Data_20y      0\n",
       "Data_50y      0\n",
       "Data_100y     0\n",
       "Data_250y     0\n",
       "Data_500y     0\n",
       "Data_1000y    0\n",
       "se_2_33y      0\n",
       "se_5y         0\n",
       "se_10y        0\n",
       "se_20y        0\n",
       "se_50y        0\n",
       "se_100y       0\n",
       "se_250y       0\n",
       "se_500y       0\n",
       "se_1000y      0\n",
       "dtype: int64"
      ]
     },
     "execution_count": 5,
     "metadata": {},
     "output_type": "execute_result"
    }
   ],
   "source": [
    "df.isnull().sum()"
   ]
  },
  {
   "cell_type": "code",
   "execution_count": 6,
   "metadata": {},
   "outputs": [],
   "source": [
    "df = df.dropna(how=\"any\")"
   ]
  },
  {
   "cell_type": "code",
   "execution_count": 7,
   "metadata": {},
   "outputs": [
    {
     "data": {
      "text/plain": [
       "X             0\n",
       "Y             0\n",
       "OBJECTID      0\n",
       "Siteno        0\n",
       "Name          0\n",
       "NZTM_E        0\n",
       "NZTM_N        0\n",
       "Region        0\n",
       "Operator      0\n",
       "Funder        0\n",
       "Area_km2      0\n",
       "No_years      0\n",
       "L1_mean       0\n",
       "L2            0\n",
       "Lcv           0\n",
       "T3_Lskew      0\n",
       "T4_Lkurt      0\n",
       "Gumb_u        0\n",
       "Gumb_alpha    0\n",
       "GEV_u         0\n",
       "GEV_alpha     0\n",
       "GEV_k         0\n",
       "GEV_z         0\n",
       "Data_2_33y    0\n",
       "Data_5y       0\n",
       "Data_10y      0\n",
       "Data_20y      0\n",
       "Data_50y      0\n",
       "Data_100y     0\n",
       "Data_250y     0\n",
       "Data_500y     0\n",
       "Data_1000y    0\n",
       "se_2_33y      0\n",
       "se_5y         0\n",
       "se_10y        0\n",
       "se_20y        0\n",
       "se_50y        0\n",
       "se_100y       0\n",
       "se_250y       0\n",
       "se_500y       0\n",
       "se_1000y      0\n",
       "dtype: int64"
      ]
     },
     "execution_count": 7,
     "metadata": {},
     "output_type": "execute_result"
    }
   ],
   "source": [
    "df.isnull().sum()"
   ]
  },
  {
   "cell_type": "code",
   "execution_count": 8,
   "metadata": {},
   "outputs": [
    {
     "data": {
      "text/plain": [
       "(634, 41)"
      ]
     },
     "execution_count": 8,
     "metadata": {},
     "output_type": "execute_result"
    }
   ],
   "source": [
    "df.shape"
   ]
  }
 ],
 "metadata": {
  "kernelspec": {
   "display_name": "Python 3",
   "language": "python",
   "name": "python3"
  },
  "language_info": {
   "codemirror_mode": {
    "name": "ipython",
    "version": 3
   },
   "file_extension": ".py",
   "mimetype": "text/x-python",
   "name": "python",
   "nbconvert_exporter": "python",
   "pygments_lexer": "ipython3",
   "version": "3.8.10"
  },
  "orig_nbformat": 4
 },
 "nbformat": 4,
 "nbformat_minor": 2
}
