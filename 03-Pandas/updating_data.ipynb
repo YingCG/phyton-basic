{
 "cells": [
  {
   "cell_type": "markdown",
   "metadata": {},
   "source": [
    "## read in the netflix_titles.csv dataset"
   ]
  },
  {
   "cell_type": "code",
   "execution_count": 73,
   "metadata": {},
   "outputs": [
    {
     "name": "stdout",
     "output_type": "stream",
     "text": [
      "<class 'pandas.core.frame.DataFrame'>\n",
      "RangeIndex: 8807 entries, 0 to 8806\n",
      "Data columns (total 13 columns):\n",
      " #   Column        Non-Null Count  Dtype \n",
      "---  ------        --------------  ----- \n",
      " 0   Unnamed: 0    8807 non-null   int64 \n",
      " 1   show_id       8807 non-null   object\n",
      " 2   type          8807 non-null   object\n",
      " 3   title         8807 non-null   object\n",
      " 4   director      6173 non-null   object\n",
      " 5   cast          7982 non-null   object\n",
      " 6   country       7976 non-null   object\n",
      " 7   date_added    8797 non-null   object\n",
      " 8   release_year  8807 non-null   int64 \n",
      " 9   rating        8803 non-null   object\n",
      " 10  duration      8804 non-null   object\n",
      " 11  listed_in     8807 non-null   object\n",
      " 12  description   8807 non-null   object\n",
      "dtypes: int64(2), object(11)\n",
      "memory usage: 894.6+ KB\n"
     ]
    }
   ],
   "source": [
    "import pandas as pd\n",
    "netflix = pd.read_csv(\"data/netflix_titles.csv\", sep=\"|\")\n",
    "netflix.info()"
   ]
  },
  {
   "cell_type": "markdown",
   "metadata": {},
   "source": [
    "## Set the index to be \"Show_id\" (inplace)"
   ]
  },
  {
   "cell_type": "code",
   "execution_count": 74,
   "metadata": {},
   "outputs": [],
   "source": [
    "netflix.set_index(\"show_id\", inplace=True)"
   ]
  },
  {
   "cell_type": "markdown",
   "metadata": {},
   "source": [
    "## Find the row with the id of s2202 and set its director to \"Greg Whiteley\""
   ]
  },
  {
   "cell_type": "code",
   "execution_count": 75,
   "metadata": {},
   "outputs": [
    {
     "data": {
      "text/plain": [
       "Unnamed: 0                                                   2201\n",
       "type                                                      TV Show\n",
       "title                                               Last Chance U\n",
       "director                                                      NaN\n",
       "cast            John Franklin III, DJ Law, Buddy Stephens, Bri...\n",
       "country                                             United States\n",
       "date_added                                          July 28, 2020\n",
       "release_year                                                 2020\n",
       "rating                                                      TV-MA\n",
       "duration                                                5 Seasons\n",
       "listed_in                                              Docuseries\n",
       "description     In a docuseries set at one of NCAA football's ...\n",
       "Name: s2202, dtype: object"
      ]
     },
     "execution_count": 75,
     "metadata": {},
     "output_type": "execute_result"
    }
   ],
   "source": [
    "netflix.loc[\"s2202\"]"
   ]
  },
  {
   "cell_type": "code",
   "execution_count": 76,
   "metadata": {},
   "outputs": [
    {
     "data": {
      "text/plain": [
       "nan"
      ]
     },
     "execution_count": 76,
     "metadata": {},
     "output_type": "execute_result"
    }
   ],
   "source": [
    "netflix.loc[\"s2202\", \"director\"]"
   ]
  },
  {
   "cell_type": "code",
   "execution_count": 77,
   "metadata": {},
   "outputs": [
    {
     "data": {
      "text/plain": [
       "Unnamed: 0                                                   2201\n",
       "type                                                      TV Show\n",
       "title                                               Last Chance U\n",
       "director                                            Greg Whiteley\n",
       "cast            John Franklin III, DJ Law, Buddy Stephens, Bri...\n",
       "country                                             United States\n",
       "date_added                                          July 28, 2020\n",
       "release_year                                                 2020\n",
       "rating                                                      TV-MA\n",
       "duration                                                5 Seasons\n",
       "listed_in                                              Docuseries\n",
       "description     In a docuseries set at one of NCAA football's ...\n",
       "Name: s2202, dtype: object"
      ]
     },
     "execution_count": 77,
     "metadata": {},
     "output_type": "execute_result"
    }
   ],
   "source": [
    "netflix.loc[\"s2202\", \"director\"] = \"Greg Whiteley\"\n",
    "netflix.loc[\"s2202\"]"
   ]
  },
  {
   "cell_type": "markdown",
   "metadata": {},
   "source": [
    "## Update the \"duration\" of the shows with index s2881 and s3601 to be \"Gone too soon\""
   ]
  },
  {
   "cell_type": "code",
   "execution_count": 78,
   "metadata": {},
   "outputs": [
    {
     "data": {
      "text/plain": [
       "show_id\n",
       "s2881     1 Season\n",
       "s3601    3 Seasons\n",
       "Name: duration, dtype: object"
      ]
     },
     "execution_count": 78,
     "metadata": {},
     "output_type": "execute_result"
    }
   ],
   "source": [
    "netflix.loc[[\"s2881\", \"s3601\"], \"duration\"]"
   ]
  },
  {
   "cell_type": "code",
   "execution_count": 79,
   "metadata": {},
   "outputs": [
    {
     "data": {
      "text/html": [
       "<div>\n",
       "<style scoped>\n",
       "    .dataframe tbody tr th:only-of-type {\n",
       "        vertical-align: middle;\n",
       "    }\n",
       "\n",
       "    .dataframe tbody tr th {\n",
       "        vertical-align: top;\n",
       "    }\n",
       "\n",
       "    .dataframe thead th {\n",
       "        text-align: right;\n",
       "    }\n",
       "</style>\n",
       "<table border=\"1\" class=\"dataframe\">\n",
       "  <thead>\n",
       "    <tr style=\"text-align: right;\">\n",
       "      <th></th>\n",
       "      <th>Unnamed: 0</th>\n",
       "      <th>type</th>\n",
       "      <th>title</th>\n",
       "      <th>director</th>\n",
       "      <th>cast</th>\n",
       "      <th>country</th>\n",
       "      <th>date_added</th>\n",
       "      <th>release_year</th>\n",
       "      <th>rating</th>\n",
       "      <th>duration</th>\n",
       "      <th>listed_in</th>\n",
       "      <th>description</th>\n",
       "    </tr>\n",
       "    <tr>\n",
       "      <th>show_id</th>\n",
       "      <th></th>\n",
       "      <th></th>\n",
       "      <th></th>\n",
       "      <th></th>\n",
       "      <th></th>\n",
       "      <th></th>\n",
       "      <th></th>\n",
       "      <th></th>\n",
       "      <th></th>\n",
       "      <th></th>\n",
       "      <th></th>\n",
       "      <th></th>\n",
       "    </tr>\n",
       "  </thead>\n",
       "  <tbody>\n",
       "    <tr>\n",
       "      <th>s2881</th>\n",
       "      <td>2880</td>\n",
       "      <td>TV Show</td>\n",
       "      <td>I Am Not Okay With This</td>\n",
       "      <td>NaN</td>\n",
       "      <td>Sophia Lillis, Wyatt Oleff, Kathleen Rose Perk...</td>\n",
       "      <td>United States</td>\n",
       "      <td>February 26, 2020</td>\n",
       "      <td>2020</td>\n",
       "      <td>TV-MA</td>\n",
       "      <td>Gone too soon</td>\n",
       "      <td>TV Comedies, TV Dramas, TV Sci-Fi &amp; Fantasy</td>\n",
       "      <td>Angsty Syd navigates high school awkwardness, ...</td>\n",
       "    </tr>\n",
       "    <tr>\n",
       "      <th>s3601</th>\n",
       "      <td>3600</td>\n",
       "      <td>TV Show</td>\n",
       "      <td>GLOW</td>\n",
       "      <td>NaN</td>\n",
       "      <td>Alison Brie, Betty Gilpin, Marc Maron, Britney...</td>\n",
       "      <td>United States</td>\n",
       "      <td>August 9, 2019</td>\n",
       "      <td>2019</td>\n",
       "      <td>TV-MA</td>\n",
       "      <td>Gone too soon</td>\n",
       "      <td>TV Comedies, TV Dramas</td>\n",
       "      <td>In 1980s LA, a crew of misfits reinvent themse...</td>\n",
       "    </tr>\n",
       "  </tbody>\n",
       "</table>\n",
       "</div>"
      ],
      "text/plain": [
       "         Unnamed: 0     type                    title director  \\\n",
       "show_id                                                          \n",
       "s2881          2880  TV Show  I Am Not Okay With This      NaN   \n",
       "s3601          3600  TV Show                     GLOW      NaN   \n",
       "\n",
       "                                                      cast        country  \\\n",
       "show_id                                                                     \n",
       "s2881    Sophia Lillis, Wyatt Oleff, Kathleen Rose Perk...  United States   \n",
       "s3601    Alison Brie, Betty Gilpin, Marc Maron, Britney...  United States   \n",
       "\n",
       "                date_added  release_year rating       duration  \\\n",
       "show_id                                                          \n",
       "s2881    February 26, 2020          2020  TV-MA  Gone too soon   \n",
       "s3601       August 9, 2019          2019  TV-MA  Gone too soon   \n",
       "\n",
       "                                           listed_in  \\\n",
       "show_id                                                \n",
       "s2881    TV Comedies, TV Dramas, TV Sci-Fi & Fantasy   \n",
       "s3601                         TV Comedies, TV Dramas   \n",
       "\n",
       "                                               description  \n",
       "show_id                                                     \n",
       "s2881    Angsty Syd navigates high school awkwardness, ...  \n",
       "s3601    In 1980s LA, a crew of misfits reinvent themse...  "
      ]
     },
     "execution_count": 79,
     "metadata": {},
     "output_type": "execute_result"
    }
   ],
   "source": [
    "netflix.loc[[\"s2881\", \"s3601\"], \"duration\"] = \"Gone too soon\"\n",
    "netflix.loc[[\"s2881\", \"s3601\"]]"
   ]
  },
  {
   "cell_type": "markdown",
   "metadata": {},
   "source": [
    "# rename the release_year column to \"releas_yr\" in place"
   ]
  },
  {
   "cell_type": "code",
   "execution_count": 83,
   "metadata": {},
   "outputs": [
    {
     "data": {
      "text/html": [
       "<div>\n",
       "<style scoped>\n",
       "    .dataframe tbody tr th:only-of-type {\n",
       "        vertical-align: middle;\n",
       "    }\n",
       "\n",
       "    .dataframe tbody tr th {\n",
       "        vertical-align: top;\n",
       "    }\n",
       "\n",
       "    .dataframe thead th {\n",
       "        text-align: right;\n",
       "    }\n",
       "</style>\n",
       "<table border=\"1\" class=\"dataframe\">\n",
       "  <thead>\n",
       "    <tr style=\"text-align: right;\">\n",
       "      <th></th>\n",
       "      <th>Unnamed: 0</th>\n",
       "      <th>type</th>\n",
       "      <th>title</th>\n",
       "      <th>director</th>\n",
       "      <th>cast</th>\n",
       "      <th>country</th>\n",
       "      <th>date_added</th>\n",
       "      <th>release_yr</th>\n",
       "      <th>rating</th>\n",
       "      <th>duration</th>\n",
       "      <th>listed_in</th>\n",
       "      <th>description</th>\n",
       "    </tr>\n",
       "    <tr>\n",
       "      <th>show_id</th>\n",
       "      <th></th>\n",
       "      <th></th>\n",
       "      <th></th>\n",
       "      <th></th>\n",
       "      <th></th>\n",
       "      <th></th>\n",
       "      <th></th>\n",
       "      <th></th>\n",
       "      <th></th>\n",
       "      <th></th>\n",
       "      <th></th>\n",
       "      <th></th>\n",
       "    </tr>\n",
       "  </thead>\n",
       "  <tbody>\n",
       "    <tr>\n",
       "      <th>s1</th>\n",
       "      <td>0</td>\n",
       "      <td>Movie</td>\n",
       "      <td>Dick Johnson Is Dead</td>\n",
       "      <td>Kirsten Johnson</td>\n",
       "      <td>NaN</td>\n",
       "      <td>United States</td>\n",
       "      <td>September 25, 2021</td>\n",
       "      <td>2020</td>\n",
       "      <td>PG-13</td>\n",
       "      <td>90 min</td>\n",
       "      <td>Documentaries</td>\n",
       "      <td>As her father nears the end of his life, filmm...</td>\n",
       "    </tr>\n",
       "    <tr>\n",
       "      <th>s2</th>\n",
       "      <td>1</td>\n",
       "      <td>TV Show</td>\n",
       "      <td>Blood &amp; Water</td>\n",
       "      <td>NaN</td>\n",
       "      <td>Ama Qamata, Khosi Ngema, Gail Mabalane, Thaban...</td>\n",
       "      <td>South Africa</td>\n",
       "      <td>September 24, 2021</td>\n",
       "      <td>2021</td>\n",
       "      <td>TV-MA</td>\n",
       "      <td>2 Seasons</td>\n",
       "      <td>International TV Shows, TV Dramas, TV Mysteries</td>\n",
       "      <td>After crossing paths at a party, a Cape Town t...</td>\n",
       "    </tr>\n",
       "    <tr>\n",
       "      <th>s3</th>\n",
       "      <td>2</td>\n",
       "      <td>TV Show</td>\n",
       "      <td>Ganglands</td>\n",
       "      <td>Julien Leclercq</td>\n",
       "      <td>Sami Bouajila, Tracy Gotoas, Samuel Jouy, Nabi...</td>\n",
       "      <td>NaN</td>\n",
       "      <td>September 24, 2021</td>\n",
       "      <td>2021</td>\n",
       "      <td>TV-MA</td>\n",
       "      <td>1 Season</td>\n",
       "      <td>Crime TV Shows, International TV Shows, TV Act...</td>\n",
       "      <td>To protect his family from a powerful drug lor...</td>\n",
       "    </tr>\n",
       "    <tr>\n",
       "      <th>s4</th>\n",
       "      <td>3</td>\n",
       "      <td>TV Show</td>\n",
       "      <td>Jailbirds New Orleans</td>\n",
       "      <td>NaN</td>\n",
       "      <td>NaN</td>\n",
       "      <td>NaN</td>\n",
       "      <td>September 24, 2021</td>\n",
       "      <td>2021</td>\n",
       "      <td>TV-MA</td>\n",
       "      <td>1 Season</td>\n",
       "      <td>Docuseries, Reality TV</td>\n",
       "      <td>Feuds, flirtations and toilet talk go down amo...</td>\n",
       "    </tr>\n",
       "    <tr>\n",
       "      <th>s5</th>\n",
       "      <td>4</td>\n",
       "      <td>TV Show</td>\n",
       "      <td>Kota Factory</td>\n",
       "      <td>NaN</td>\n",
       "      <td>Mayur More, Jitendra Kumar, Ranjan Raj, Alam K...</td>\n",
       "      <td>India</td>\n",
       "      <td>September 24, 2021</td>\n",
       "      <td>2021</td>\n",
       "      <td>TV-MA</td>\n",
       "      <td>2 Seasons</td>\n",
       "      <td>International TV Shows, Romantic TV Shows, TV ...</td>\n",
       "      <td>In a city of coaching centers known to train I...</td>\n",
       "    </tr>\n",
       "    <tr>\n",
       "      <th>...</th>\n",
       "      <td>...</td>\n",
       "      <td>...</td>\n",
       "      <td>...</td>\n",
       "      <td>...</td>\n",
       "      <td>...</td>\n",
       "      <td>...</td>\n",
       "      <td>...</td>\n",
       "      <td>...</td>\n",
       "      <td>...</td>\n",
       "      <td>...</td>\n",
       "      <td>...</td>\n",
       "      <td>...</td>\n",
       "    </tr>\n",
       "    <tr>\n",
       "      <th>s8803</th>\n",
       "      <td>8802</td>\n",
       "      <td>Movie</td>\n",
       "      <td>Zodiac</td>\n",
       "      <td>David Fincher</td>\n",
       "      <td>Mark Ruffalo, Jake Gyllenhaal, Robert Downey J...</td>\n",
       "      <td>United States</td>\n",
       "      <td>November 20, 2019</td>\n",
       "      <td>2007</td>\n",
       "      <td>R</td>\n",
       "      <td>158 min</td>\n",
       "      <td>Cult Movies, Dramas, Thrillers</td>\n",
       "      <td>A political cartoonist, a crime reporter and a...</td>\n",
       "    </tr>\n",
       "    <tr>\n",
       "      <th>s8804</th>\n",
       "      <td>8803</td>\n",
       "      <td>TV Show</td>\n",
       "      <td>Zombie Dumb</td>\n",
       "      <td>NaN</td>\n",
       "      <td>NaN</td>\n",
       "      <td>NaN</td>\n",
       "      <td>July 1, 2019</td>\n",
       "      <td>2018</td>\n",
       "      <td>TV-Y7</td>\n",
       "      <td>2 Seasons</td>\n",
       "      <td>Kids' TV, Korean TV Shows, TV Comedies</td>\n",
       "      <td>While living alone in a spooky town, a young g...</td>\n",
       "    </tr>\n",
       "    <tr>\n",
       "      <th>s8805</th>\n",
       "      <td>8804</td>\n",
       "      <td>Movie</td>\n",
       "      <td>Zombieland</td>\n",
       "      <td>Ruben Fleischer</td>\n",
       "      <td>Jesse Eisenberg, Woody Harrelson, Emma Stone, ...</td>\n",
       "      <td>United States</td>\n",
       "      <td>November 1, 2019</td>\n",
       "      <td>2009</td>\n",
       "      <td>R</td>\n",
       "      <td>88 min</td>\n",
       "      <td>Comedies, Horror Movies</td>\n",
       "      <td>Looking to survive in a world taken over by zo...</td>\n",
       "    </tr>\n",
       "    <tr>\n",
       "      <th>s8806</th>\n",
       "      <td>8805</td>\n",
       "      <td>Movie</td>\n",
       "      <td>Zoom</td>\n",
       "      <td>Peter Hewitt</td>\n",
       "      <td>Tim Allen, Courteney Cox, Chevy Chase, Kate Ma...</td>\n",
       "      <td>United States</td>\n",
       "      <td>January 11, 2020</td>\n",
       "      <td>2006</td>\n",
       "      <td>PG</td>\n",
       "      <td>88 min</td>\n",
       "      <td>Children &amp; Family Movies, Comedies</td>\n",
       "      <td>Dragged from civilian life, a former superhero...</td>\n",
       "    </tr>\n",
       "    <tr>\n",
       "      <th>s8807</th>\n",
       "      <td>8806</td>\n",
       "      <td>Movie</td>\n",
       "      <td>Zubaan</td>\n",
       "      <td>Mozez Singh</td>\n",
       "      <td>Vicky Kaushal, Sarah-Jane Dias, Raaghav Chanan...</td>\n",
       "      <td>India</td>\n",
       "      <td>March 2, 2019</td>\n",
       "      <td>2015</td>\n",
       "      <td>TV-14</td>\n",
       "      <td>111 min</td>\n",
       "      <td>Dramas, International Movies, Music &amp; Musicals</td>\n",
       "      <td>A scrappy but poor boy worms his way into a ty...</td>\n",
       "    </tr>\n",
       "  </tbody>\n",
       "</table>\n",
       "<p>8807 rows × 12 columns</p>\n",
       "</div>"
      ],
      "text/plain": [
       "         Unnamed: 0     type                  title         director  \\\n",
       "show_id                                                                \n",
       "s1                0    Movie   Dick Johnson Is Dead  Kirsten Johnson   \n",
       "s2                1  TV Show          Blood & Water              NaN   \n",
       "s3                2  TV Show              Ganglands  Julien Leclercq   \n",
       "s4                3  TV Show  Jailbirds New Orleans              NaN   \n",
       "s5                4  TV Show           Kota Factory              NaN   \n",
       "...             ...      ...                    ...              ...   \n",
       "s8803          8802    Movie                 Zodiac    David Fincher   \n",
       "s8804          8803  TV Show            Zombie Dumb              NaN   \n",
       "s8805          8804    Movie             Zombieland  Ruben Fleischer   \n",
       "s8806          8805    Movie                   Zoom     Peter Hewitt   \n",
       "s8807          8806    Movie                 Zubaan      Mozez Singh   \n",
       "\n",
       "                                                      cast        country  \\\n",
       "show_id                                                                     \n",
       "s1                                                     NaN  United States   \n",
       "s2       Ama Qamata, Khosi Ngema, Gail Mabalane, Thaban...   South Africa   \n",
       "s3       Sami Bouajila, Tracy Gotoas, Samuel Jouy, Nabi...            NaN   \n",
       "s4                                                     NaN            NaN   \n",
       "s5       Mayur More, Jitendra Kumar, Ranjan Raj, Alam K...          India   \n",
       "...                                                    ...            ...   \n",
       "s8803    Mark Ruffalo, Jake Gyllenhaal, Robert Downey J...  United States   \n",
       "s8804                                                  NaN            NaN   \n",
       "s8805    Jesse Eisenberg, Woody Harrelson, Emma Stone, ...  United States   \n",
       "s8806    Tim Allen, Courteney Cox, Chevy Chase, Kate Ma...  United States   \n",
       "s8807    Vicky Kaushal, Sarah-Jane Dias, Raaghav Chanan...          India   \n",
       "\n",
       "                 date_added  release_yr rating   duration  \\\n",
       "show_id                                                     \n",
       "s1       September 25, 2021        2020  PG-13     90 min   \n",
       "s2       September 24, 2021        2021  TV-MA  2 Seasons   \n",
       "s3       September 24, 2021        2021  TV-MA   1 Season   \n",
       "s4       September 24, 2021        2021  TV-MA   1 Season   \n",
       "s5       September 24, 2021        2021  TV-MA  2 Seasons   \n",
       "...                     ...         ...    ...        ...   \n",
       "s8803     November 20, 2019        2007      R    158 min   \n",
       "s8804          July 1, 2019        2018  TV-Y7  2 Seasons   \n",
       "s8805      November 1, 2019        2009      R     88 min   \n",
       "s8806      January 11, 2020        2006     PG     88 min   \n",
       "s8807         March 2, 2019        2015  TV-14    111 min   \n",
       "\n",
       "                                                 listed_in  \\\n",
       "show_id                                                      \n",
       "s1                                           Documentaries   \n",
       "s2         International TV Shows, TV Dramas, TV Mysteries   \n",
       "s3       Crime TV Shows, International TV Shows, TV Act...   \n",
       "s4                                  Docuseries, Reality TV   \n",
       "s5       International TV Shows, Romantic TV Shows, TV ...   \n",
       "...                                                    ...   \n",
       "s8803                       Cult Movies, Dramas, Thrillers   \n",
       "s8804               Kids' TV, Korean TV Shows, TV Comedies   \n",
       "s8805                              Comedies, Horror Movies   \n",
       "s8806                   Children & Family Movies, Comedies   \n",
       "s8807       Dramas, International Movies, Music & Musicals   \n",
       "\n",
       "                                               description  \n",
       "show_id                                                     \n",
       "s1       As her father nears the end of his life, filmm...  \n",
       "s2       After crossing paths at a party, a Cape Town t...  \n",
       "s3       To protect his family from a powerful drug lor...  \n",
       "s4       Feuds, flirtations and toilet talk go down amo...  \n",
       "s5       In a city of coaching centers known to train I...  \n",
       "...                                                    ...  \n",
       "s8803    A political cartoonist, a crime reporter and a...  \n",
       "s8804    While living alone in a spooky town, a young g...  \n",
       "s8805    Looking to survive in a world taken over by zo...  \n",
       "s8806    Dragged from civilian life, a former superhero...  \n",
       "s8807    A scrappy but poor boy worms his way into a ty...  \n",
       "\n",
       "[8807 rows x 12 columns]"
      ]
     },
     "execution_count": 83,
     "metadata": {},
     "output_type": "execute_result"
    }
   ],
   "source": [
    "netflix.rename(columns={\"release_year\": \"release_yr\"}, inplace=True)\n",
    "# is same as\n",
    "netflix.rename({\"release_year\" : \"release_yr\"}, axis=1, inplace=True)\n",
    "netflix"
   ]
  },
  {
   "cell_type": "markdown",
   "metadata": {},
   "source": [
    "## find the show call \"Evil\"\n",
    "## Change its index label to s6666 inplace"
   ]
  },
  {
   "cell_type": "code",
   "execution_count": null,
   "metadata": {},
   "outputs": [],
   "source": []
  },
  {
   "cell_type": "markdown",
   "metadata": {},
   "source": [
    "## In the rating column, please replace all instances of \"UR\" and \"NR\" with \"no Rating\"."
   ]
  },
  {
   "cell_type": "code",
   "execution_count": null,
   "metadata": {},
   "outputs": [],
   "source": []
  },
  {
   "cell_type": "markdown",
   "metadata": {},
   "source": [
    "## Add a new column \"is_fav\" and set it to False for all rows\n",
    "## Update the \"is_fav\" column to True for the titles in my list of favs"
   ]
  },
  {
   "cell_type": "code",
   "execution_count": 81,
   "metadata": {},
   "outputs": [],
   "source": [
    "favs = [\"Young Royals\", \"Dark\", \"Big Mouth\", \"BoJack Horseman\", \"The Queen\"]"
   ]
  }
 ],
 "metadata": {
  "kernelspec": {
   "display_name": "Python 3",
   "language": "python",
   "name": "python3"
  },
  "language_info": {
   "codemirror_mode": {
    "name": "ipython",
    "version": 3
   },
   "file_extension": ".py",
   "mimetype": "text/x-python",
   "name": "python",
   "nbconvert_exporter": "python",
   "pygments_lexer": "ipython3",
   "version": "3.8.10"
  },
  "orig_nbformat": 4
 },
 "nbformat": 4,
 "nbformat_minor": 2
}
