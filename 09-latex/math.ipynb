{
 "cells": [
  {
   "attachments": {},
   "cell_type": "markdown",
   "metadata": {},
   "source": [
    "https://blmoistawinde.github.io/ml_equations_latex/#accuracy-precision-recall-f1"
   ]
  },
  {
   "attachments": {},
   "cell_type": "markdown",
   "metadata": {},
   "source": [
    "Accuracy, Precision, Recall, F1\n",
    "$$\n",
    "Accuracy = \\frac{TP+TN}{TP+TN+FP+FN}\n",
    "$$\n",
    "$$\n",
    "Precision = \\frac{TP}{TP+FP}\n",
    "$$\n",
    "$$\n",
    "Recall = \\frac{TP}{TP+FN}\n",
    "$$\n",
    "$$\n",
    "F1 = \\frac{2*Precision*Recall}{Precision+Recall} = \\frac{2*TP}{2*TP+FP+FN}\n",
    "$$"
   ]
  },
  {
   "cell_type": "code",
   "execution_count": null,
   "metadata": {},
   "outputs": [],
   "source": [
    "# Accuracy\n",
    "# Calculate accuracy percentage between two lists\n",
    "def accuracy_metric(actual, predicted):\n",
    " correct = 0\n",
    " for i in range(len(actual)):\n",
    " if actual[i] == predicted[i]:\n",
    " correct += 1\n",
    " return correct / float(len(actual)) * 100.0\n",
    " \n",
    "# Test accuracy\n",
    "actual = [0,0,0,0,0,1,1,1,1,1]\n",
    "predicted = [0,1,0,0,0,1,0,1,1,1]\n",
    "accuracy = accuracy_metric(actual, predicted)\n",
    "print(accuracy)\n",
    "\n",
    "# Running this example produces the expected accuracy of 80% or 8/10.\n",
    "80.0\n"
   ]
  },
  {
   "attachments": {},
   "cell_type": "markdown",
   "metadata": {},
   "source": [
    "Creating a Confusion Matrix"
   ]
  },
  {
   "cell_type": "code",
   "execution_count": null,
   "metadata": {},
   "outputs": [],
   "source": [
    "import matplotlib.pyplot as plt\n",
    "import numpy\n",
    "from sklearn import metrics\n",
    "\n",
    "actual = numpy.random.binomial(1,.9,size = 1000)\n",
    "predicted = numpy.random.binomial(1,.9,size = 1000)\n",
    "\n",
    "confusion_matrix = metrics.confusion_matrix(actual, predicted)\n",
    "\n",
    "cm_display = metrics.ConfusionMatrixDisplay(confusion_matrix = confusion_matrix, display_labels = [False, True])\n",
    "\n",
    "cm_display.plot()\n",
    "plt.show()"
   ]
  },
  {
   "cell_type": "code",
   "execution_count": null,
   "metadata": {},
   "outputs": [],
   "source": [
    " # F1_score\n",
    "import numpy as np \n",
    "from sklearn.metrics import f1_score \n",
    " \n",
    "#define array of actual classes \n",
    "actual = np.repeat([1, 0], repeats=[160, 240]) \n",
    " \n",
    "#define array of predicted classes \n",
    "pred = np.repeat([1, 0, 1, 0], repeats=[120, 40, 70, 170]) \n",
    " \n",
    "#calculate F1 score \n",
    "f1_score(actual, pred) \n",
    " \n",
    "0.6857142857142857"
   ]
  },
  {
   "attachments": {},
   "cell_type": "markdown",
   "metadata": {},
   "source": [
    "Mean Absolute Error(MAE)\n",
    "$$\n",
    "\\sum_{i=1}^{D}|x_i-y_i|\n",
    "\n",
    "$$\n",
    "\\sum_{i=1}^{D}|x_i-y_i|"
   ]
  },
  {
   "cell_type": "code",
   "execution_count": null,
   "metadata": {},
   "outputs": [],
   "source": [
    "# Calculating the MAE with a custom function\n",
    "import numpy as np\n",
    "\n",
    "def mae(y_true, predictions):\n",
    "    y_true, predictions = np.array(y_true), np.array(predictions)\n",
    "    return np.mean(np.abs(y_true - predictions))\n",
    "\n",
    "true = [1,2,3,4,5,6]\n",
    "predicted = [1,3,4,4,5,9]\n",
    "\n",
    "print(mae(true, predicted))\n",
    "\n",
    "# Returns: 0.833"
   ]
  },
  {
   "attachments": {},
   "cell_type": "markdown",
   "metadata": {},
   "source": [
    "to perform time series cross-validation"
   ]
  },
  {
   "cell_type": "code",
   "execution_count": null,
   "metadata": {},
   "outputs": [],
   "source": [
    "from sklearn import datasets\n",
    "from sklearn.tree import DecisionTreeClassifier\n",
    "from sklearn.model_selection import TimeSeriesSplit, cross_val_score\n",
    "\n",
    "# Load the Iris dataset\n",
    "X, y = datasets.load_iris(return_X_y=True)\n",
    "\n",
    "# Initialize the Decision Tree classifier\n",
    "clf = DecisionTreeClassifier(random_state=42)\n",
    "\n",
    "# Perform Time Series Cross-Validation\n",
    "tscv = TimeSeriesSplit(n_splits=5)\n",
    "\n",
    "# Perform cross-validation and obtain scores\n",
    "scores = cross_val_score(clf, X, y, cv=tscv)\n",
    "\n",
    "# Print the cross-validation scores\n",
    "print(\"Cross-Validation Scores: \", scores)\n",
    "print(\"Average CV Score: \", scores.mean())\n",
    "print(\"Number of CV Scores used in Average: \", len(scores))"
   ]
  },
  {
   "attachments": {},
   "cell_type": "markdown",
   "metadata": {},
   "source": [
    "Example of basic generat text output base on the wather condition of rain or not rain using a decision tree classifier"
   ]
  },
  {
   "cell_type": "code",
   "execution_count": null,
   "metadata": {},
   "outputs": [],
   "source": [
    "from sklearn.datasets import make_classification\n",
    "from sklearn.tree import DecisionTreeClassifier\n",
    "\n",
    "# Create a toy dataset with weather conditions (replace with your actual data)\n",
    "X, y = make_classification(n_samples=100, n_features=4, random_state=42)\n",
    "\n",
    "# Instantiate a Decision Tree classifier\n",
    "clf = DecisionTreeClassifier(random_state=42)\n",
    "\n",
    "# Fit the classifier on the dataset\n",
    "clf.fit(X, y)\n",
    "\n",
    "# List of days with weather conditions (replace with your actual data)\n",
    "weather_days = [\n",
    "    [25, 70, 15, 1],   # Temperature, Humidity, Wind Speed, Rainfall\n",
    "    [18, 85, 10, 0],\n",
    "    [30, 60, 12, 1]\n",
    "]\n",
    "\n",
    "# Generate text outputs based on weather conditions\n",
    "for day in weather_days:\n",
    "    prediction = clf.predict([day])[0]\n",
    "    \n",
    "    if prediction == 1:\n",
    "        print(\"Today is raining, as a 'photuhukaw' graces the coast—welcome relief after a stretch of scorching heat.\")\n",
    "    else:\n",
    "        print(\"Today is dry and sunny, perfect for outdoor activities.\")"
   ]
  }
 ],
 "metadata": {
  "kernelspec": {
   "display_name": "Python 3",
   "language": "python",
   "name": "python3"
  },
  "language_info": {
   "codemirror_mode": {
    "name": "ipython",
    "version": 3
   },
   "file_extension": ".py",
   "mimetype": "text/x-python",
   "name": "python",
   "nbconvert_exporter": "python",
   "pygments_lexer": "ipython3",
   "version": "3.10.6"
  },
  "orig_nbformat": 4
 },
 "nbformat": 4,
 "nbformat_minor": 2
}
