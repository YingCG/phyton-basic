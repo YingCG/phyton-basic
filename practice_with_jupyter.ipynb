{
 "cells": [
  {
   "cell_type": "code",
   "execution_count": 1,
   "metadata": {},
   "outputs": [
    {
     "name": "stdout",
     "output_type": "stream",
     "text": [
      "2401\n"
     ]
    }
   ],
   "source": [
    "# what is 7 to the power of 4? \n",
    "print(7 ** 4)\n",
    "# output: 2401"
   ]
  },
  {
   "cell_type": "code",
   "execution_count": 2,
   "metadata": {},
   "outputs": [
    {
     "name": "stdout",
     "output_type": "stream",
     "text": [
      "['Hi', 'there', 'Sam!']\n"
     ]
    }
   ],
   "source": [
    "# Split this string into a list\n",
    "s = \"Hi there Sam!\"\n",
    "print(s.split())"
   ]
  },
  {
   "cell_type": "code",
   "execution_count": 3,
   "metadata": {},
   "outputs": [
    {
     "name": "stdout",
     "output_type": "stream",
     "text": [
      "The diameter of Earth is 12742 kilometers.\n"
     ]
    }
   ],
   "source": [
    "# Given the variable:\n",
    "planet = 'Earth'\n",
    "diameter = 12742\n",
    "# output: The diameter of Earth is 12742 kilometers.\n",
    "print('The diameter of {0} is {1} kilometers.'.format(planet, diameter))"
   ]
  },
  {
   "cell_type": "code",
   "execution_count": 4,
   "metadata": {},
   "outputs": [
    {
     "name": "stdout",
     "output_type": "stream",
     "text": [
      "hello\n"
     ]
    }
   ],
   "source": [
    "# Given this nested list, use indexing to grab the word 'hello'\n",
    "lst = [1,2,[3,4],[5,[100,200,['hello']],23,11],1,7]\n",
    "# output : hello\n",
    "print(lst[3][1][2][0])\n"
   ]
  },
  {
   "cell_type": "code",
   "execution_count": 5,
   "metadata": {},
   "outputs": [
    {
     "name": "stdout",
     "output_type": "stream",
     "text": [
      "hello\n"
     ]
    }
   ],
   "source": [
    "# Give this nest dictionary grab the word \"hello\".\n",
    "d = {'k1': [1,2,3,{'tricky': ['oh', 'man','inception',{'target':[1,2,3,'hello']}]}]}\n",
    "print(d['k1'][3]['tricky'][3]['target'][3])"
   ]
  },
  {
   "cell_type": "code",
   "execution_count": 6,
   "metadata": {},
   "outputs": [],
   "source": [
    "# What is the main difference between a tuple and a list\n",
    "## tuple cannot reset the value"
   ]
  },
  {
   "cell_type": "code",
   "execution_count": 7,
   "metadata": {},
   "outputs": [
    {
     "name": "stdout",
     "output_type": "stream",
     "text": [
      "domain.com\n"
     ]
    }
   ],
   "source": [
    "# Create a function that grabs the email website domain from a string in the forms:\n",
    "# For example, passing 'user@domain.com' would return: domain.com\n",
    "\n",
    "def getDomain(email):\n",
    "    return email.split('@')[1]\n",
    "\n",
    "print(getDomain('user@domain.com'))"
   ]
  },
  {
   "cell_type": "code",
   "execution_count": 8,
   "metadata": {},
   "outputs": [
    {
     "name": "stdout",
     "output_type": "stream",
     "text": [
      "True\n"
     ]
    }
   ],
   "source": [
    "# Create a basic function that return True if the word 'dog' is contained in the input string.\n",
    "value = 'dog'\n",
    "def findDog(sentence):\n",
    "    if(value in sentence.lower()):\n",
    "        return True\n",
    "    return False\n",
    "\n",
    "print(findDog('Is there a dog here?'))"
   ]
  },
  {
   "cell_type": "code",
   "execution_count": 18,
   "metadata": {},
   "outputs": [
    {
     "name": "stdout",
     "output_type": "stream",
     "text": [
      "3\n"
     ]
    }
   ],
   "source": [
    "# Create a function that counts the number of times the word 'dog' occures in a string\n",
    "def countDog(st):\n",
    "    count = 0\n",
    "    for word in st.lower().split():\n",
    "        if word.startswith('dog'):\n",
    "            count += 1\n",
    "    return count\n",
    "\n",
    "print(countDog(\"Doggy dog dog bom bba bee\"))"
   ]
  },
  {
   "cell_type": "code",
   "execution_count": 20,
   "metadata": {},
   "outputs": [
    {
     "data": {
      "text/plain": [
       "['soup', 'salad']"
      ]
     },
     "execution_count": 20,
     "metadata": {},
     "output_type": "execute_result"
    }
   ],
   "source": [
    "# Use lamda expression and the filter() function to filter out words from a list that don't start with the letter 's'\n",
    "seq = ['soup','dog','salad','cat','great']\n",
    "# should be filter down to ['soup', 'salad']\n",
    "def start_with_s(list):\n",
    "    result = filter(lambda word: word[0] == 's', list)\n",
    "    # or \n",
    "    # result = filter(lambda word: word.startswith('s'), list)\n",
    "    return [*result]\n",
    "start_with_s(seq)"
   ]
  },
  {
   "attachments": {},
   "cell_type": "markdown",
   "metadata": {},
   "source": [
    "``` in javascript will be like this\n",
    "seq = ['soup','dog','salad','cat','great']\n",
    "# should be filter down to ['soup', 'salad']\n",
    "\n",
    "function start_with_s(list){\n",
    "    result = list.filter((word) => word.startsWith('s'))\n",
    "    return result\n",
    "}\n",
    "\n",
    "start_with_s(seq)\n",
    "```"
   ]
  },
  {
   "cell_type": "code",
   "execution_count": 28,
   "metadata": {},
   "outputs": [],
   "source": [
    "# You are driving a little too fast, and a police office stops you.\n",
    "# Write a function to return one of 3 possible ticket:\n",
    "# Speed is lower than 60 -- no ticket\n",
    "# Speed is between 61 and 80 inclusive -- small ticket\n",
    "# Speed is about 80 or more -- big ticket\n",
    "# Unless it is your birthday, your speed can be 5 higher in all cases.(encoded as a boolean value in parameters of the function)\n",
    "\n",
    "from datetime import date\n",
    "def speedCheck(speed, birthday):\n",
    "    ticket = 'No ticket'\n",
    "    # isBirthday = birthday == date.today()\n",
    "    # speedBonus = 0\n",
    "    # if isBirthday:\n",
    "    #     speedBonus = 5\n",
    "\n",
    "    today = date.today()\n",
    "\n",
    "    speedBonus = 5 if birthday.day == today.day and birthday.month == today.month else 0\n",
    "\n",
    "    if speed > 60 + speedBonus and speed <= 80 + speedBonus:\n",
    "        return 'Small ticket'\n",
    "    elif speed > 80 + speedBonus:\n",
    "        return 'Big ticket'\n",
    "    else:\n",
    "        return ticket"
   ]
  },
  {
   "cell_type": "code",
   "execution_count": 32,
   "metadata": {},
   "outputs": [
    {
     "data": {
      "text/plain": [
       "'Small ticket'"
      ]
     },
     "execution_count": 32,
     "metadata": {},
     "output_type": "execute_result"
    }
   ],
   "source": [
    "speedCheck(85, date(1986, 3, 12))"
   ]
  }
 ],
 "metadata": {
  "kernelspec": {
   "display_name": "base",
   "language": "python",
   "name": "python3"
  },
  "language_info": {
   "codemirror_mode": {
    "name": "ipython",
    "version": 3
   },
   "file_extension": ".py",
   "mimetype": "text/x-python",
   "name": "python",
   "nbconvert_exporter": "python",
   "pygments_lexer": "ipython3",
   "version": "3.9.12"
  },
  "orig_nbformat": 4,
  "vscode": {
   "interpreter": {
    "hash": "8385ef8cbc6c1cd56ab923128367688a7eca71676c2f04358835056e8c45d225"
   }
  }
 },
 "nbformat": 4,
 "nbformat_minor": 2
}
