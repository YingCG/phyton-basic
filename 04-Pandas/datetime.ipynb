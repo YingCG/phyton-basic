{
 "cells": [
  {
   "cell_type": "code",
   "execution_count": 21,
   "metadata": {},
   "outputs": [
    {
     "name": "stdout",
     "output_type": "stream",
     "text": [
      "<class 'pandas.core.frame.DataFrame'>\n",
      "RangeIndex: 105131 entries, 0 to 105130\n",
      "Data columns (total 8 columns):\n",
      " #   Column                                          Non-Null Count   Dtype  \n",
      "---  ------                                          --------------   -----  \n",
      " 0   Timestamp                                       105131 non-null  object \n",
      " 1   UTC Offset                                      105131 non-null  int64  \n",
      " 2   Multiple Gauge Rainfall Recency Alarm (on/off)  60608 non-null   float64\n",
      " 3   Quality                                         105131 non-null  object \n",
      " 4   Rainfall (mm)                                   2851 non-null    float64\n",
      " 5   Quality.1                                       105131 non-null  object \n",
      " 6   Rainfall (Accumulated) (mm)                     105131 non-null  float64\n",
      " 7   Quality.2                                       105131 non-null  object \n",
      "dtypes: float64(3), int64(1), object(4)\n",
      "memory usage: 6.4+ MB\n"
     ]
    }
   ],
   "source": [
    "import pandas as pd\n",
    "weather = pd.read_csv(\"../07-Prediction/data/ACC - Rain -Albert Park Acc rainfall_20220818-20230818-5mins.csv\")\n",
    "weather.info()"
   ]
  },
  {
   "cell_type": "code",
   "execution_count": 22,
   "metadata": {},
   "outputs": [
    {
     "data": {
      "text/plain": [
       "0        2022-08-18 14:20:00\n",
       "1        2022-08-18 14:25:00\n",
       "2        2022-08-18 14:30:00\n",
       "3        2022-08-18 14:35:00\n",
       "4        2022-08-18 14:40:00\n",
       "                 ...        \n",
       "105126   2023-08-18 14:00:00\n",
       "105127   2023-08-18 14:05:00\n",
       "105128   2023-08-18 14:10:00\n",
       "105129   2023-08-18 14:15:00\n",
       "105130   2023-08-18 14:20:00\n",
       "Name: Timestamp, Length: 105131, dtype: datetime64[ns]"
      ]
     },
     "execution_count": 22,
     "metadata": {},
     "output_type": "execute_result"
    }
   ],
   "source": [
    "pd.to_datetime(weather[\"Timestamp\"])"
   ]
  },
  {
   "cell_type": "code",
   "execution_count": 23,
   "metadata": {},
   "outputs": [],
   "source": [
    "weather[\"Timestamp\"] = pd.to_datetime(weather[\"Timestamp\"])"
   ]
  },
  {
   "cell_type": "code",
   "execution_count": 24,
   "metadata": {},
   "outputs": [
    {
     "name": "stdout",
     "output_type": "stream",
     "text": [
      "<class 'pandas.core.frame.DataFrame'>\n",
      "RangeIndex: 105131 entries, 0 to 105130\n",
      "Data columns (total 8 columns):\n",
      " #   Column                                          Non-Null Count   Dtype         \n",
      "---  ------                                          --------------   -----         \n",
      " 0   Timestamp                                       105131 non-null  datetime64[ns]\n",
      " 1   UTC Offset                                      105131 non-null  int64         \n",
      " 2   Multiple Gauge Rainfall Recency Alarm (on/off)  60608 non-null   float64       \n",
      " 3   Quality                                         105131 non-null  object        \n",
      " 4   Rainfall (mm)                                   2851 non-null    float64       \n",
      " 5   Quality.1                                       105131 non-null  object        \n",
      " 6   Rainfall (Accumulated) (mm)                     105131 non-null  float64       \n",
      " 7   Quality.2                                       105131 non-null  object        \n",
      "dtypes: datetime64[ns](1), float64(3), int64(1), object(3)\n",
      "memory usage: 6.4+ MB\n"
     ]
    }
   ],
   "source": [
    "weather.info()"
   ]
  },
  {
   "cell_type": "code",
   "execution_count": 25,
   "metadata": {},
   "outputs": [
    {
     "data": {
      "text/plain": [
       "0         18\n",
       "1         18\n",
       "2         18\n",
       "3         18\n",
       "4         18\n",
       "          ..\n",
       "105126    18\n",
       "105127    18\n",
       "105128    18\n",
       "105129    18\n",
       "105130    18\n",
       "Name: Timestamp, Length: 105131, dtype: int64"
      ]
     },
     "execution_count": 25,
     "metadata": {},
     "output_type": "execute_result"
    }
   ],
   "source": [
    "weather[\"Timestamp\"].dt.day\n"
   ]
  },
  {
   "cell_type": "code",
   "execution_count": 26,
   "metadata": {},
   "outputs": [
    {
     "data": {
      "text/plain": [
       "<Axes: >"
      ]
     },
     "execution_count": 26,
     "metadata": {},
     "output_type": "execute_result"
    },
    {
     "data": {
      "image/png": "[encoded data removed]",
      "text/plain": [
       "<Figure size 432x288 with 1 Axes>"
      ]
     },
     "metadata": {
      "needs_background": "light"
     },
     "output_type": "display_data"
    }
   ],
   "source": [
    "most_rain = weather.sort_values(\"Rainfall (mm)\").head(10)\n",
    "most_rain\n",
    "most_rain[\"Timestamp\"].dt.hour.value_counts().plot(kind=\"bar\")"
   ]
  },
  {
   "cell_type": "markdown",
   "metadata": {},
   "source": [
    "## Import dataset and parse the \"date\" column"
   ]
  },
  {
   "cell_type": "code",
   "execution_count": 27,
   "metadata": {},
   "outputs": [
    {
     "name": "stdout",
     "output_type": "stream",
     "text": [
      "<class 'pandas.core.frame.DataFrame'>\n",
      "RangeIndex: 21613 entries, 0 to 21612\n",
      "Data columns (total 21 columns):\n",
      " #   Column         Non-Null Count  Dtype         \n",
      "---  ------         --------------  -----         \n",
      " 0   id             21613 non-null  int64         \n",
      " 1   date           21613 non-null  datetime64[ns]\n",
      " 2   price          21613 non-null  float64       \n",
      " 3   bedrooms       21613 non-null  int64         \n",
      " 4   bathrooms      21613 non-null  float64       \n",
      " 5   sqft_living    21613 non-null  int64         \n",
      " 6   sqft_lot       21613 non-null  int64         \n",
      " 7   floors         21613 non-null  float64       \n",
      " 8   waterfront     21613 non-null  int64         \n",
      " 9   view           21613 non-null  int64         \n",
      " 10  condition      21613 non-null  int64         \n",
      " 11  grade          21613 non-null  int64         \n",
      " 12  sqft_above     21613 non-null  int64         \n",
      " 13  sqft_basement  21613 non-null  int64         \n",
      " 14  yr_built       21613 non-null  int64         \n",
      " 15  yr_renovated   21613 non-null  int64         \n",
      " 16  zipcode        21613 non-null  int64         \n",
      " 17  lat            21613 non-null  float64       \n",
      " 18  long           21613 non-null  float64       \n",
      " 19  sqft_living15  21613 non-null  int64         \n",
      " 20  sqft_lot15     21613 non-null  int64         \n",
      "dtypes: datetime64[ns](1), float64(5), int64(15)\n",
      "memory usage: 3.5 MB\n"
     ]
    }
   ],
   "source": [
    "import pandas as pd\n",
    "housesales = pd.read_csv(\"data/kc_house_data.csv\", parse_dates=[\"date\"])\n",
    "housesales.info()\n"
   ]
  },
  {
   "cell_type": "markdown",
   "metadata": {},
   "source": [
    "## Calculate how many days the dataset spans"
   ]
  },
  {
   "cell_type": "code",
   "execution_count": 28,
   "metadata": {},
   "outputs": [
    {
     "data": {
      "text/plain": [
       "390"
      ]
     },
     "execution_count": 28,
     "metadata": {},
     "output_type": "execute_result"
    }
   ],
   "source": [
    "timespan = housesales[\"date\"].max() - housesales[\"date\"].min()\n",
    "timespan.days"
   ]
  },
  {
   "cell_type": "markdown",
   "metadata": {},
   "source": [
    "## Find the date that had the most house sales\n",
    "## Find all the homes sold on that date"
   ]
  },
  {
   "cell_type": "code",
   "execution_count": 29,
   "metadata": {},
   "outputs": [
    {
     "data": {
      "text/html": [
       "<div>\n",
       "<style scoped>\n",
       "    .dataframe tbody tr th:only-of-type {\n",
       "        vertical-align: middle;\n",
       "    }\n",
       "\n",
       "    .dataframe tbody tr th {\n",
       "        vertical-align: top;\n",
       "    }\n",
       "\n",
       "    .dataframe thead th {\n",
       "        text-align: right;\n",
       "    }\n",
       "</style>\n",
       "<table border=\"1\" class=\"dataframe\">\n",
       "  <thead>\n",
       "    <tr style=\"text-align: right;\">\n",
       "      <th></th>\n",
       "      <th>id</th>\n",
       "      <th>date</th>\n",
       "      <th>price</th>\n",
       "      <th>bedrooms</th>\n",
       "      <th>bathrooms</th>\n",
       "      <th>sqft_living</th>\n",
       "      <th>sqft_lot</th>\n",
       "      <th>floors</th>\n",
       "      <th>waterfront</th>\n",
       "      <th>view</th>\n",
       "      <th>...</th>\n",
       "      <th>grade</th>\n",
       "      <th>sqft_above</th>\n",
       "      <th>sqft_basement</th>\n",
       "      <th>yr_built</th>\n",
       "      <th>yr_renovated</th>\n",
       "      <th>zipcode</th>\n",
       "      <th>lat</th>\n",
       "      <th>long</th>\n",
       "      <th>sqft_living15</th>\n",
       "      <th>sqft_lot15</th>\n",
       "    </tr>\n",
       "  </thead>\n",
       "  <tbody>\n",
       "    <tr>\n",
       "      <th>117</th>\n",
       "      <td>4060000240</td>\n",
       "      <td>2014-06-23</td>\n",
       "      <td>205425.0</td>\n",
       "      <td>2</td>\n",
       "      <td>1.00</td>\n",
       "      <td>880</td>\n",
       "      <td>6780</td>\n",
       "      <td>1.0</td>\n",
       "      <td>0</td>\n",
       "      <td>0</td>\n",
       "      <td>...</td>\n",
       "      <td>6</td>\n",
       "      <td>880</td>\n",
       "      <td>0</td>\n",
       "      <td>1945</td>\n",
       "      <td>0</td>\n",
       "      <td>98178</td>\n",
       "      <td>47.5009</td>\n",
       "      <td>-122.248</td>\n",
       "      <td>1190</td>\n",
       "      <td>6780</td>\n",
       "    </tr>\n",
       "    <tr>\n",
       "      <th>397</th>\n",
       "      <td>5175800060</td>\n",
       "      <td>2014-06-23</td>\n",
       "      <td>365000.0</td>\n",
       "      <td>4</td>\n",
       "      <td>2.00</td>\n",
       "      <td>1940</td>\n",
       "      <td>25600</td>\n",
       "      <td>1.0</td>\n",
       "      <td>0</td>\n",
       "      <td>0</td>\n",
       "      <td>...</td>\n",
       "      <td>8</td>\n",
       "      <td>1940</td>\n",
       "      <td>0</td>\n",
       "      <td>1962</td>\n",
       "      <td>0</td>\n",
       "      <td>98006</td>\n",
       "      <td>47.5722</td>\n",
       "      <td>-122.129</td>\n",
       "      <td>2000</td>\n",
       "      <td>10071</td>\n",
       "    </tr>\n",
       "    <tr>\n",
       "      <th>470</th>\n",
       "      <td>2172000075</td>\n",
       "      <td>2014-06-23</td>\n",
       "      <td>290900.0</td>\n",
       "      <td>2</td>\n",
       "      <td>2.00</td>\n",
       "      <td>1610</td>\n",
       "      <td>17600</td>\n",
       "      <td>2.0</td>\n",
       "      <td>0</td>\n",
       "      <td>0</td>\n",
       "      <td>...</td>\n",
       "      <td>6</td>\n",
       "      <td>1610</td>\n",
       "      <td>0</td>\n",
       "      <td>1930</td>\n",
       "      <td>1983</td>\n",
       "      <td>98178</td>\n",
       "      <td>47.4855</td>\n",
       "      <td>-122.266</td>\n",
       "      <td>1310</td>\n",
       "      <td>12950</td>\n",
       "    </tr>\n",
       "    <tr>\n",
       "      <th>621</th>\n",
       "      <td>3010300240</td>\n",
       "      <td>2014-06-23</td>\n",
       "      <td>577000.0</td>\n",
       "      <td>3</td>\n",
       "      <td>2.50</td>\n",
       "      <td>2060</td>\n",
       "      <td>5750</td>\n",
       "      <td>1.0</td>\n",
       "      <td>0</td>\n",
       "      <td>0</td>\n",
       "      <td>...</td>\n",
       "      <td>7</td>\n",
       "      <td>1330</td>\n",
       "      <td>730</td>\n",
       "      <td>1976</td>\n",
       "      <td>0</td>\n",
       "      <td>98116</td>\n",
       "      <td>47.5671</td>\n",
       "      <td>-122.391</td>\n",
       "      <td>1920</td>\n",
       "      <td>5750</td>\n",
       "    </tr>\n",
       "    <tr>\n",
       "      <th>676</th>\n",
       "      <td>7846700310</td>\n",
       "      <td>2014-06-23</td>\n",
       "      <td>280000.0</td>\n",
       "      <td>2</td>\n",
       "      <td>1.00</td>\n",
       "      <td>1010</td>\n",
       "      <td>3000</td>\n",
       "      <td>1.0</td>\n",
       "      <td>0</td>\n",
       "      <td>0</td>\n",
       "      <td>...</td>\n",
       "      <td>7</td>\n",
       "      <td>1010</td>\n",
       "      <td>0</td>\n",
       "      <td>1925</td>\n",
       "      <td>0</td>\n",
       "      <td>98045</td>\n",
       "      <td>47.4965</td>\n",
       "      <td>-121.785</td>\n",
       "      <td>1150</td>\n",
       "      <td>7000</td>\n",
       "    </tr>\n",
       "    <tr>\n",
       "      <th>...</th>\n",
       "      <td>...</td>\n",
       "      <td>...</td>\n",
       "      <td>...</td>\n",
       "      <td>...</td>\n",
       "      <td>...</td>\n",
       "      <td>...</td>\n",
       "      <td>...</td>\n",
       "      <td>...</td>\n",
       "      <td>...</td>\n",
       "      <td>...</td>\n",
       "      <td>...</td>\n",
       "      <td>...</td>\n",
       "      <td>...</td>\n",
       "      <td>...</td>\n",
       "      <td>...</td>\n",
       "      <td>...</td>\n",
       "      <td>...</td>\n",
       "      <td>...</td>\n",
       "      <td>...</td>\n",
       "      <td>...</td>\n",
       "      <td>...</td>\n",
       "    </tr>\n",
       "    <tr>\n",
       "      <th>21230</th>\n",
       "      <td>3629990280</td>\n",
       "      <td>2014-06-23</td>\n",
       "      <td>497000.0</td>\n",
       "      <td>3</td>\n",
       "      <td>2.25</td>\n",
       "      <td>1630</td>\n",
       "      <td>3817</td>\n",
       "      <td>2.0</td>\n",
       "      <td>0</td>\n",
       "      <td>0</td>\n",
       "      <td>...</td>\n",
       "      <td>7</td>\n",
       "      <td>1630</td>\n",
       "      <td>0</td>\n",
       "      <td>2005</td>\n",
       "      <td>0</td>\n",
       "      <td>98029</td>\n",
       "      <td>47.5485</td>\n",
       "      <td>-121.999</td>\n",
       "      <td>1630</td>\n",
       "      <td>3348</td>\n",
       "    </tr>\n",
       "    <tr>\n",
       "      <th>21479</th>\n",
       "      <td>6181500120</td>\n",
       "      <td>2014-06-23</td>\n",
       "      <td>312891.0</td>\n",
       "      <td>5</td>\n",
       "      <td>3.00</td>\n",
       "      <td>2300</td>\n",
       "      <td>8214</td>\n",
       "      <td>2.0</td>\n",
       "      <td>0</td>\n",
       "      <td>0</td>\n",
       "      <td>...</td>\n",
       "      <td>8</td>\n",
       "      <td>2300</td>\n",
       "      <td>0</td>\n",
       "      <td>2013</td>\n",
       "      <td>0</td>\n",
       "      <td>98001</td>\n",
       "      <td>47.3052</td>\n",
       "      <td>-122.276</td>\n",
       "      <td>2594</td>\n",
       "      <td>4950</td>\n",
       "    </tr>\n",
       "    <tr>\n",
       "      <th>21529</th>\n",
       "      <td>2487200490</td>\n",
       "      <td>2014-06-23</td>\n",
       "      <td>670000.0</td>\n",
       "      <td>3</td>\n",
       "      <td>2.50</td>\n",
       "      <td>3310</td>\n",
       "      <td>5300</td>\n",
       "      <td>2.0</td>\n",
       "      <td>0</td>\n",
       "      <td>2</td>\n",
       "      <td>...</td>\n",
       "      <td>8</td>\n",
       "      <td>2440</td>\n",
       "      <td>870</td>\n",
       "      <td>2008</td>\n",
       "      <td>0</td>\n",
       "      <td>98136</td>\n",
       "      <td>47.5178</td>\n",
       "      <td>-122.389</td>\n",
       "      <td>2140</td>\n",
       "      <td>7500</td>\n",
       "    </tr>\n",
       "    <tr>\n",
       "      <th>21578</th>\n",
       "      <td>567000385</td>\n",
       "      <td>2014-06-23</td>\n",
       "      <td>362500.0</td>\n",
       "      <td>2</td>\n",
       "      <td>1.50</td>\n",
       "      <td>940</td>\n",
       "      <td>1768</td>\n",
       "      <td>2.0</td>\n",
       "      <td>0</td>\n",
       "      <td>0</td>\n",
       "      <td>...</td>\n",
       "      <td>7</td>\n",
       "      <td>940</td>\n",
       "      <td>0</td>\n",
       "      <td>2009</td>\n",
       "      <td>0</td>\n",
       "      <td>98144</td>\n",
       "      <td>47.5925</td>\n",
       "      <td>-122.295</td>\n",
       "      <td>1130</td>\n",
       "      <td>1159</td>\n",
       "    </tr>\n",
       "    <tr>\n",
       "      <th>21610</th>\n",
       "      <td>1523300141</td>\n",
       "      <td>2014-06-23</td>\n",
       "      <td>402101.0</td>\n",
       "      <td>2</td>\n",
       "      <td>0.75</td>\n",
       "      <td>1020</td>\n",
       "      <td>1350</td>\n",
       "      <td>2.0</td>\n",
       "      <td>0</td>\n",
       "      <td>0</td>\n",
       "      <td>...</td>\n",
       "      <td>7</td>\n",
       "      <td>1020</td>\n",
       "      <td>0</td>\n",
       "      <td>2009</td>\n",
       "      <td>0</td>\n",
       "      <td>98144</td>\n",
       "      <td>47.5944</td>\n",
       "      <td>-122.299</td>\n",
       "      <td>1020</td>\n",
       "      <td>2007</td>\n",
       "    </tr>\n",
       "  </tbody>\n",
       "</table>\n",
       "<p>142 rows × 21 columns</p>\n",
       "</div>"
      ],
      "text/plain": [
       "               id       date     price  bedrooms  bathrooms  sqft_living  \\\n",
       "117    4060000240 2014-06-23  205425.0         2       1.00          880   \n",
       "397    5175800060 2014-06-23  365000.0         4       2.00         1940   \n",
       "470    2172000075 2014-06-23  290900.0         2       2.00         1610   \n",
       "621    3010300240 2014-06-23  577000.0         3       2.50         2060   \n",
       "676    7846700310 2014-06-23  280000.0         2       1.00         1010   \n",
       "...           ...        ...       ...       ...        ...          ...   \n",
       "21230  3629990280 2014-06-23  497000.0         3       2.25         1630   \n",
       "21479  6181500120 2014-06-23  312891.0         5       3.00         2300   \n",
       "21529  2487200490 2014-06-23  670000.0         3       2.50         3310   \n",
       "21578   567000385 2014-06-23  362500.0         2       1.50          940   \n",
       "21610  1523300141 2014-06-23  402101.0         2       0.75         1020   \n",
       "\n",
       "       sqft_lot  floors  waterfront  view  ...  grade  sqft_above  \\\n",
       "117        6780     1.0           0     0  ...      6         880   \n",
       "397       25600     1.0           0     0  ...      8        1940   \n",
       "470       17600     2.0           0     0  ...      6        1610   \n",
       "621        5750     1.0           0     0  ...      7        1330   \n",
       "676        3000     1.0           0     0  ...      7        1010   \n",
       "...         ...     ...         ...   ...  ...    ...         ...   \n",
       "21230      3817     2.0           0     0  ...      7        1630   \n",
       "21479      8214     2.0           0     0  ...      8        2300   \n",
       "21529      5300     2.0           0     2  ...      8        2440   \n",
       "21578      1768     2.0           0     0  ...      7         940   \n",
       "21610      1350     2.0           0     0  ...      7        1020   \n",
       "\n",
       "       sqft_basement  yr_built  yr_renovated  zipcode      lat     long  \\\n",
       "117                0      1945             0    98178  47.5009 -122.248   \n",
       "397                0      1962             0    98006  47.5722 -122.129   \n",
       "470                0      1930          1983    98178  47.4855 -122.266   \n",
       "621              730      1976             0    98116  47.5671 -122.391   \n",
       "676                0      1925             0    98045  47.4965 -121.785   \n",
       "...              ...       ...           ...      ...      ...      ...   \n",
       "21230              0      2005             0    98029  47.5485 -121.999   \n",
       "21479              0      2013             0    98001  47.3052 -122.276   \n",
       "21529            870      2008             0    98136  47.5178 -122.389   \n",
       "21578              0      2009             0    98144  47.5925 -122.295   \n",
       "21610              0      2009             0    98144  47.5944 -122.299   \n",
       "\n",
       "       sqft_living15  sqft_lot15  \n",
       "117             1190        6780  \n",
       "397             2000       10071  \n",
       "470             1310       12950  \n",
       "621             1920        5750  \n",
       "676             1150        7000  \n",
       "...              ...         ...  \n",
       "21230           1630        3348  \n",
       "21479           2594        4950  \n",
       "21529           2140        7500  \n",
       "21578           1130        1159  \n",
       "21610           1020        2007  \n",
       "\n",
       "[142 rows x 21 columns]"
      ]
     },
     "execution_count": 29,
     "metadata": {},
     "output_type": "execute_result"
    }
   ],
   "source": [
    "housesales[\"date\"].value_counts()\n",
    "# other option\n",
    "top_sale = housesales[\"date\"].mode()[0]\n",
    "housesales[housesales[\"date\"] == top_sale]"
   ]
  },
  {
   "cell_type": "markdown",
   "metadata": {},
   "source": [
    "# Create a pie chart showing the years that home sales took place in 2014 and 2015"
   ]
  },
  {
   "cell_type": "code",
   "execution_count": 30,
   "metadata": {},
   "outputs": [
    {
     "data": {
      "text/plain": [
       "<Axes: ylabel='date'>"
      ]
     },
     "execution_count": 30,
     "metadata": {},
     "output_type": "execute_result"
    },
    {
     "data": {
      "image/png": "[encoded data removed]",
      "text/plain": [
       "<Figure size 432x288 with 1 Axes>"
      ]
     },
     "metadata": {},
     "output_type": "display_data"
    }
   ],
   "source": [
    "housesales[\"date\"].dt.year.value_counts().plot(kind=\"pie\")"
   ]
  },
  {
   "cell_type": "markdown",
   "metadata": {},
   "source": [
    "## Find all the homes sold in 2014, sorted from earliest to latest"
   ]
  },
  {
   "cell_type": "code",
   "execution_count": 31,
   "metadata": {},
   "outputs": [
    {
     "data": {
      "text/html": [
       "<div>\n",
       "<style scoped>\n",
       "    .dataframe tbody tr th:only-of-type {\n",
       "        vertical-align: middle;\n",
       "    }\n",
       "\n",
       "    .dataframe tbody tr th {\n",
       "        vertical-align: top;\n",
       "    }\n",
       "\n",
       "    .dataframe thead th {\n",
       "        text-align: right;\n",
       "    }\n",
       "</style>\n",
       "<table border=\"1\" class=\"dataframe\">\n",
       "  <thead>\n",
       "    <tr style=\"text-align: right;\">\n",
       "      <th></th>\n",
       "      <th>id</th>\n",
       "      <th>date</th>\n",
       "      <th>price</th>\n",
       "      <th>bedrooms</th>\n",
       "      <th>bathrooms</th>\n",
       "      <th>sqft_living</th>\n",
       "      <th>sqft_lot</th>\n",
       "      <th>floors</th>\n",
       "      <th>waterfront</th>\n",
       "      <th>view</th>\n",
       "      <th>...</th>\n",
       "      <th>grade</th>\n",
       "      <th>sqft_above</th>\n",
       "      <th>sqft_basement</th>\n",
       "      <th>yr_built</th>\n",
       "      <th>yr_renovated</th>\n",
       "      <th>zipcode</th>\n",
       "      <th>lat</th>\n",
       "      <th>long</th>\n",
       "      <th>sqft_living15</th>\n",
       "      <th>sqft_lot15</th>\n",
       "    </tr>\n",
       "  </thead>\n",
       "  <tbody>\n",
       "    <tr>\n",
       "      <th>11907</th>\n",
       "      <td>3221059036</td>\n",
       "      <td>2014-05-02</td>\n",
       "      <td>400000.0</td>\n",
       "      <td>4</td>\n",
       "      <td>2.50</td>\n",
       "      <td>3630</td>\n",
       "      <td>42884</td>\n",
       "      <td>1.5</td>\n",
       "      <td>0</td>\n",
       "      <td>0</td>\n",
       "      <td>...</td>\n",
       "      <td>9</td>\n",
       "      <td>2300</td>\n",
       "      <td>1330</td>\n",
       "      <td>1979</td>\n",
       "      <td>0</td>\n",
       "      <td>98092</td>\n",
       "      <td>47.2617</td>\n",
       "      <td>-122.190</td>\n",
       "      <td>2830</td>\n",
       "      <td>80148</td>\n",
       "    </tr>\n",
       "    <tr>\n",
       "      <th>20559</th>\n",
       "      <td>3438501320</td>\n",
       "      <td>2014-05-02</td>\n",
       "      <td>295000.0</td>\n",
       "      <td>2</td>\n",
       "      <td>2.50</td>\n",
       "      <td>1630</td>\n",
       "      <td>1368</td>\n",
       "      <td>2.0</td>\n",
       "      <td>0</td>\n",
       "      <td>0</td>\n",
       "      <td>...</td>\n",
       "      <td>7</td>\n",
       "      <td>1280</td>\n",
       "      <td>350</td>\n",
       "      <td>2009</td>\n",
       "      <td>0</td>\n",
       "      <td>98106</td>\n",
       "      <td>47.5489</td>\n",
       "      <td>-122.363</td>\n",
       "      <td>1590</td>\n",
       "      <td>2306</td>\n",
       "    </tr>\n",
       "    <tr>\n",
       "      <th>17038</th>\n",
       "      <td>2326059099</td>\n",
       "      <td>2014-05-02</td>\n",
       "      <td>838000.0</td>\n",
       "      <td>4</td>\n",
       "      <td>2.50</td>\n",
       "      <td>3310</td>\n",
       "      <td>42998</td>\n",
       "      <td>2.0</td>\n",
       "      <td>0</td>\n",
       "      <td>0</td>\n",
       "      <td>...</td>\n",
       "      <td>9</td>\n",
       "      <td>3310</td>\n",
       "      <td>0</td>\n",
       "      <td>2001</td>\n",
       "      <td>0</td>\n",
       "      <td>98052</td>\n",
       "      <td>47.7232</td>\n",
       "      <td>-122.131</td>\n",
       "      <td>3350</td>\n",
       "      <td>42847</td>\n",
       "    </tr>\n",
       "    <tr>\n",
       "      <th>15921</th>\n",
       "      <td>7831800460</td>\n",
       "      <td>2014-05-02</td>\n",
       "      <td>235000.0</td>\n",
       "      <td>2</td>\n",
       "      <td>1.00</td>\n",
       "      <td>1210</td>\n",
       "      <td>9400</td>\n",
       "      <td>1.0</td>\n",
       "      <td>0</td>\n",
       "      <td>0</td>\n",
       "      <td>...</td>\n",
       "      <td>6</td>\n",
       "      <td>1210</td>\n",
       "      <td>0</td>\n",
       "      <td>1949</td>\n",
       "      <td>0</td>\n",
       "      <td>98106</td>\n",
       "      <td>47.5342</td>\n",
       "      <td>-122.360</td>\n",
       "      <td>1580</td>\n",
       "      <td>6026</td>\n",
       "    </tr>\n",
       "    <tr>\n",
       "      <th>11891</th>\n",
       "      <td>7305300695</td>\n",
       "      <td>2014-05-02</td>\n",
       "      <td>625000.0</td>\n",
       "      <td>4</td>\n",
       "      <td>2.50</td>\n",
       "      <td>2820</td>\n",
       "      <td>8408</td>\n",
       "      <td>2.0</td>\n",
       "      <td>0</td>\n",
       "      <td>0</td>\n",
       "      <td>...</td>\n",
       "      <td>9</td>\n",
       "      <td>2820</td>\n",
       "      <td>0</td>\n",
       "      <td>2014</td>\n",
       "      <td>0</td>\n",
       "      <td>98155</td>\n",
       "      <td>47.7538</td>\n",
       "      <td>-122.325</td>\n",
       "      <td>1300</td>\n",
       "      <td>8408</td>\n",
       "    </tr>\n",
       "    <tr>\n",
       "      <th>...</th>\n",
       "      <td>...</td>\n",
       "      <td>...</td>\n",
       "      <td>...</td>\n",
       "      <td>...</td>\n",
       "      <td>...</td>\n",
       "      <td>...</td>\n",
       "      <td>...</td>\n",
       "      <td>...</td>\n",
       "      <td>...</td>\n",
       "      <td>...</td>\n",
       "      <td>...</td>\n",
       "      <td>...</td>\n",
       "      <td>...</td>\n",
       "      <td>...</td>\n",
       "      <td>...</td>\n",
       "      <td>...</td>\n",
       "      <td>...</td>\n",
       "      <td>...</td>\n",
       "      <td>...</td>\n",
       "      <td>...</td>\n",
       "      <td>...</td>\n",
       "    </tr>\n",
       "    <tr>\n",
       "      <th>1692</th>\n",
       "      <td>7701990700</td>\n",
       "      <td>2014-12-31</td>\n",
       "      <td>825000.0</td>\n",
       "      <td>4</td>\n",
       "      <td>2.50</td>\n",
       "      <td>3210</td>\n",
       "      <td>18901</td>\n",
       "      <td>2.0</td>\n",
       "      <td>0</td>\n",
       "      <td>0</td>\n",
       "      <td>...</td>\n",
       "      <td>10</td>\n",
       "      <td>3210</td>\n",
       "      <td>0</td>\n",
       "      <td>1993</td>\n",
       "      <td>0</td>\n",
       "      <td>98077</td>\n",
       "      <td>47.7090</td>\n",
       "      <td>-122.073</td>\n",
       "      <td>3330</td>\n",
       "      <td>18901</td>\n",
       "    </tr>\n",
       "    <tr>\n",
       "      <th>8393</th>\n",
       "      <td>2493200215</td>\n",
       "      <td>2014-12-31</td>\n",
       "      <td>582000.0</td>\n",
       "      <td>3</td>\n",
       "      <td>1.75</td>\n",
       "      <td>1820</td>\n",
       "      <td>3140</td>\n",
       "      <td>2.0</td>\n",
       "      <td>0</td>\n",
       "      <td>0</td>\n",
       "      <td>...</td>\n",
       "      <td>8</td>\n",
       "      <td>1820</td>\n",
       "      <td>0</td>\n",
       "      <td>1949</td>\n",
       "      <td>1990</td>\n",
       "      <td>98136</td>\n",
       "      <td>47.5271</td>\n",
       "      <td>-122.384</td>\n",
       "      <td>2030</td>\n",
       "      <td>5499</td>\n",
       "    </tr>\n",
       "    <tr>\n",
       "      <th>18462</th>\n",
       "      <td>7345200650</td>\n",
       "      <td>2014-12-31</td>\n",
       "      <td>219200.0</td>\n",
       "      <td>3</td>\n",
       "      <td>2.00</td>\n",
       "      <td>1680</td>\n",
       "      <td>7000</td>\n",
       "      <td>1.5</td>\n",
       "      <td>0</td>\n",
       "      <td>0</td>\n",
       "      <td>...</td>\n",
       "      <td>7</td>\n",
       "      <td>1680</td>\n",
       "      <td>0</td>\n",
       "      <td>1968</td>\n",
       "      <td>0</td>\n",
       "      <td>98002</td>\n",
       "      <td>47.2775</td>\n",
       "      <td>-122.203</td>\n",
       "      <td>1540</td>\n",
       "      <td>7480</td>\n",
       "    </tr>\n",
       "    <tr>\n",
       "      <th>9850</th>\n",
       "      <td>8861000060</td>\n",
       "      <td>2014-12-31</td>\n",
       "      <td>875000.0</td>\n",
       "      <td>3</td>\n",
       "      <td>1.00</td>\n",
       "      <td>1160</td>\n",
       "      <td>10732</td>\n",
       "      <td>1.0</td>\n",
       "      <td>0</td>\n",
       "      <td>0</td>\n",
       "      <td>...</td>\n",
       "      <td>7</td>\n",
       "      <td>1160</td>\n",
       "      <td>0</td>\n",
       "      <td>1953</td>\n",
       "      <td>0</td>\n",
       "      <td>98004</td>\n",
       "      <td>47.6391</td>\n",
       "      <td>-122.205</td>\n",
       "      <td>2390</td>\n",
       "      <td>13656</td>\n",
       "    </tr>\n",
       "    <tr>\n",
       "      <th>18433</th>\n",
       "      <td>1545801340</td>\n",
       "      <td>2014-12-31</td>\n",
       "      <td>261000.0</td>\n",
       "      <td>3</td>\n",
       "      <td>1.75</td>\n",
       "      <td>1350</td>\n",
       "      <td>7686</td>\n",
       "      <td>1.0</td>\n",
       "      <td>0</td>\n",
       "      <td>0</td>\n",
       "      <td>...</td>\n",
       "      <td>7</td>\n",
       "      <td>1350</td>\n",
       "      <td>0</td>\n",
       "      <td>1987</td>\n",
       "      <td>0</td>\n",
       "      <td>98038</td>\n",
       "      <td>47.3617</td>\n",
       "      <td>-122.052</td>\n",
       "      <td>1370</td>\n",
       "      <td>7686</td>\n",
       "    </tr>\n",
       "  </tbody>\n",
       "</table>\n",
       "<p>14633 rows × 21 columns</p>\n",
       "</div>"
      ],
      "text/plain": [
       "               id       date     price  bedrooms  bathrooms  sqft_living  \\\n",
       "11907  3221059036 2014-05-02  400000.0         4       2.50         3630   \n",
       "20559  3438501320 2014-05-02  295000.0         2       2.50         1630   \n",
       "17038  2326059099 2014-05-02  838000.0         4       2.50         3310   \n",
       "15921  7831800460 2014-05-02  235000.0         2       1.00         1210   \n",
       "11891  7305300695 2014-05-02  625000.0         4       2.50         2820   \n",
       "...           ...        ...       ...       ...        ...          ...   \n",
       "1692   7701990700 2014-12-31  825000.0         4       2.50         3210   \n",
       "8393   2493200215 2014-12-31  582000.0         3       1.75         1820   \n",
       "18462  7345200650 2014-12-31  219200.0         3       2.00         1680   \n",
       "9850   8861000060 2014-12-31  875000.0         3       1.00         1160   \n",
       "18433  1545801340 2014-12-31  261000.0         3       1.75         1350   \n",
       "\n",
       "       sqft_lot  floors  waterfront  view  ...  grade  sqft_above  \\\n",
       "11907     42884     1.5           0     0  ...      9        2300   \n",
       "20559      1368     2.0           0     0  ...      7        1280   \n",
       "17038     42998     2.0           0     0  ...      9        3310   \n",
       "15921      9400     1.0           0     0  ...      6        1210   \n",
       "11891      8408     2.0           0     0  ...      9        2820   \n",
       "...         ...     ...         ...   ...  ...    ...         ...   \n",
       "1692      18901     2.0           0     0  ...     10        3210   \n",
       "8393       3140     2.0           0     0  ...      8        1820   \n",
       "18462      7000     1.5           0     0  ...      7        1680   \n",
       "9850      10732     1.0           0     0  ...      7        1160   \n",
       "18433      7686     1.0           0     0  ...      7        1350   \n",
       "\n",
       "       sqft_basement  yr_built  yr_renovated  zipcode      lat     long  \\\n",
       "11907           1330      1979             0    98092  47.2617 -122.190   \n",
       "20559            350      2009             0    98106  47.5489 -122.363   \n",
       "17038              0      2001             0    98052  47.7232 -122.131   \n",
       "15921              0      1949             0    98106  47.5342 -122.360   \n",
       "11891              0      2014             0    98155  47.7538 -122.325   \n",
       "...              ...       ...           ...      ...      ...      ...   \n",
       "1692               0      1993             0    98077  47.7090 -122.073   \n",
       "8393               0      1949          1990    98136  47.5271 -122.384   \n",
       "18462              0      1968             0    98002  47.2775 -122.203   \n",
       "9850               0      1953             0    98004  47.6391 -122.205   \n",
       "18433              0      1987             0    98038  47.3617 -122.052   \n",
       "\n",
       "       sqft_living15  sqft_lot15  \n",
       "11907           2830       80148  \n",
       "20559           1590        2306  \n",
       "17038           3350       42847  \n",
       "15921           1580        6026  \n",
       "11891           1300        8408  \n",
       "...              ...         ...  \n",
       "1692            3330       18901  \n",
       "8393            2030        5499  \n",
       "18462           1540        7480  \n",
       "9850            2390       13656  \n",
       "18433           1370        7686  \n",
       "\n",
       "[14633 rows x 21 columns]"
      ]
     },
     "execution_count": 31,
     "metadata": {},
     "output_type": "execute_result"
    }
   ],
   "source": [
    "# sales = housesales[\"date\"].dt.year == 2014\n",
    "# housesales[sales].sort_values(\"date\")\n",
    "housesales[housesales[\"date\"].dt.year == 2014].sort_values(\"date\")"
   ]
  },
  {
   "cell_type": "markdown",
   "metadata": {},
   "source": [
    "## number of sales that took place in each month of the year. Which month had the most"
   ]
  },
  {
   "cell_type": "code",
   "execution_count": 32,
   "metadata": {},
   "outputs": [
    {
     "data": {
      "text/plain": [
       "0    5\n",
       "Name: date, dtype: int64"
      ]
     },
     "execution_count": 32,
     "metadata": {},
     "output_type": "execute_result"
    }
   ],
   "source": [
    "# housesales[\"date\"].dt.month.value_counts()\n",
    "housesales[\"date\"].dt.month.mode()"
   ]
  },
  {
   "cell_type": "markdown",
   "metadata": {},
   "source": [
    "## Find the homes sold between May 1st 2014 and May 1st 2015\n",
    "- Create a bar plot showing the total number of sales per month in that period\n",
    "- THe x axis shoulb be in calendar order(1-12)"
   ]
  },
  {
   "cell_type": "code",
   "execution_count": 33,
   "metadata": {},
   "outputs": [
    {
     "data": {
      "text/plain": [
       "<Axes: >"
      ]
     },
     "execution_count": 33,
     "metadata": {},
     "output_type": "execute_result"
    },
    {
     "data": {
      "image/png": "[encoded data removed]",
      "text/plain": [
       "<Figure size 432x288 with 1 Axes>"
      ]
     },
     "metadata": {
      "needs_background": "light"
     },
     "output_type": "display_data"
    }
   ],
   "source": [
    "oneyearsales= housesales[housesales[\"date\"].between(\"2014-05-01\", \"2015-05-01\")]\n",
    "oneyearsales[\"date\"].dt.month.value_counts().sort_index().plot(kind=\"bar\")"
   ]
  },
  {
   "cell_type": "markdown",
   "metadata": {},
   "source": [
    "## Count up the number of homesales by day of the week\n"
   ]
  },
  {
   "cell_type": "code",
   "execution_count": 34,
   "metadata": {},
   "outputs": [
    {
     "data": {
      "text/plain": [
       "1    4715\n",
       "2    4603\n",
       "0    4099\n",
       "3    3994\n",
       "4    3685\n",
       "5     287\n",
       "6     230\n",
       "Name: date, dtype: int64"
      ]
     },
     "execution_count": 34,
     "metadata": {},
     "output_type": "execute_result"
    }
   ],
   "source": [
    "housesales[\"date\"].dt.dayofweek.value_counts()"
   ]
  },
  {
   "cell_type": "markdown",
   "metadata": {},
   "source": [
    "## Create a line plot showing the total number of sales by week of the year"
   ]
  },
  {
   "cell_type": "code",
   "execution_count": 35,
   "metadata": {},
   "outputs": [
    {
     "data": {
      "text/plain": [
       "<Axes: >"
      ]
     },
     "execution_count": 35,
     "metadata": {},
     "output_type": "execute_result"
    },
    {
     "data": {
      "image/png": "[encoded data removed]",
      "text/plain": [
       "<Figure size 432x288 with 1 Axes>"
      ]
     },
     "metadata": {
      "needs_background": "light"
     },
     "output_type": "display_data"
    }
   ],
   "source": [
    "housesales[\"date\"].dt.isocalendar().week.value_counts().sort_index().plot()"
   ]
  },
  {
   "cell_type": "markdown",
   "metadata": {},
   "source": [
    "## Create a bar plot showing the total number of sales that took place in Dec, Jan, Feb"
   ]
  },
  {
   "cell_type": "code",
   "execution_count": 36,
   "metadata": {},
   "outputs": [
    {
     "data": {
      "text/plain": [
       "<Axes: >"
      ]
     },
     "execution_count": 36,
     "metadata": {},
     "output_type": "execute_result"
    },
    {
     "data": {
      "image/png": "[encoded data removed]",
      "text/plain": [
       "<Figure size 432x288 with 1 Axes>"
      ]
     },
     "metadata": {
      "needs_background": "light"
     },
     "output_type": "display_data"
    }
   ],
   "source": [
    "df = housesales[housesales[\"date\"].dt.month.isin([12,1,2])]\n",
    "df[\"date\"].dt.month.value_counts().plot(kind=\"bar\")"
   ]
  },
  {
   "cell_type": "markdown",
   "metadata": {},
   "source": [
    "## Work with the homes sold between May 1st 2014 and May 1st 2015\n",
    "- Within that year, find the waterfront homes that were sold\n",
    "- WHich quater of that year had the most waterfront home sales?\n",
    "- Create a bbar plot shwoing the number of waterfront hom sales per quater"
   ]
  },
  {
   "cell_type": "code",
   "execution_count": 40,
   "metadata": {},
   "outputs": [
    {
     "data": {
      "text/plain": [
       "2    48\n",
       "4    43\n",
       "3    42\n",
       "1    27\n",
       "Name: date, dtype: int64"
      ]
     },
     "execution_count": 40,
     "metadata": {},
     "output_type": "execute_result"
    }
   ],
   "source": [
    "df = housesales[housesales[\"date\"].between(\"2014-05-01\", \"2015-05-01\")]\n",
    "waterfront = df[df[\"waterfront\"] == 1]\n",
    "waterfront[\"date\"].dt.quarter.value_counts()"
   ]
  },
  {
   "cell_type": "code",
   "execution_count": 41,
   "metadata": {},
   "outputs": [
    {
     "data": {
      "text/plain": [
       "<Axes: >"
      ]
     },
     "execution_count": 41,
     "metadata": {},
     "output_type": "execute_result"
    },
    {
     "data": {
      "image/png": "[encoded data removed]",
      "text/plain": [
       "<Figure size 432x288 with 1 Axes>"
      ]
     },
     "metadata": {
      "needs_background": "light"
     },
     "output_type": "display_data"
    }
   ],
   "source": [
    "waterfront[\"date\"].dt.quarter.value_counts().plot(kind=\"bar\")"
   ]
  },
  {
   "cell_type": "code",
   "execution_count": 42,
   "metadata": {},
   "outputs": [
    {
     "data": {
      "text/plain": [
       "<Axes: >"
      ]
     },
     "execution_count": 42,
     "metadata": {},
     "output_type": "execute_result"
    },
    {
     "data": {
      "image/png": "[encoded data removed]",
      "text/plain": [
       "<Figure size 432x288 with 1 Axes>"
      ]
     },
     "metadata": {
      "needs_background": "light"
     },
     "output_type": "display_data"
    }
   ],
   "source": [
    "housesales[\"date\"].dt.quarter.value_counts().plot(kind=\"bar\")"
   ]
  },
  {
   "cell_type": "code",
   "execution_count": null,
   "metadata": {},
   "outputs": [],
   "source": []
  }
 ],
 "metadata": {
  "kernelspec": {
   "display_name": "base",
   "language": "python",
   "name": "python3"
  },
  "language_info": {
   "codemirror_mode": {
    "name": "ipython",
    "version": 3
   },
   "file_extension": ".py",
   "mimetype": "text/x-python",
   "name": "python",
   "nbconvert_exporter": "python",
   "pygments_lexer": "ipython3",
   "version": "3.9.12"
  }
 },
 "nbformat": 4,
 "nbformat_minor": 2
}
